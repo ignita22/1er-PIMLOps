{
  "cells": [
    {
      "cell_type": "code",
      "execution_count": null,
      "metadata": {
        "id": "kQtX95JPu-zb"
      },
      "outputs": [],
      "source": [
        "# Importamos librerías a utilizar:\n",
        "import pandas as pd\n",
        "import json\n",
        "import gzip\n",
        "import ast\n",
        "import csv\n",
        "import gzip\n",
        "import shutil\n",
        "import os\n",
        "import ast"
      ]
    },
    {
      "cell_type": "markdown",
      "metadata": {
        "id": "CqiHXTiRwBMP"
      },
      "source": [
        "**USER_REVIEWS**"
      ]
    },
    {
      "cell_type": "code",
      "execution_count": null,
      "metadata": {
        "colab": {
          "base_uri": "https://localhost:8080/"
        },
        "id": "O1zYNb2Sq4kc",
        "outputId": "1f44fe6f-b7e4-4fce-c093-470e0c7ad4de"
      },
      "outputs": [
        {
          "name": "stdout",
          "output_type": "stream",
          "text": [
            "Archivo descomprimido guardado en: /content/user_reviews.json\n"
          ]
        }
      ],
      "source": [
        "# Se procede a descomprimir el archivo:\n",
        "archivo_comprimido = '/content/user_reviews.json.gz'\n",
        "ruta_descomprimido = os.path.splitext(archivo_comprimido)[0]\n",
        "\n",
        "with gzip.open(archivo_comprimido, 'rb') as f_in:\n",
        "    with open(ruta_descomprimido, 'wb') as f_out:\n",
        "        shutil.copyfileobj(f_in, f_out)\n",
        "\n",
        "print(f'Archivo descomprimido guardado en: {ruta_descomprimido}')"
      ]
    },
    {
      "cell_type": "code",
      "execution_count": null,
      "metadata": {
        "colab": {
          "background_save": true
        },
        "id": "kK9KxXnT2ryY"
      },
      "outputs": [],
      "source": [
        " with gzip.open('user_reviews.json.gz','r') as fin:\n",
        "    for line in fin:\n",
        "        print('user_reviews.json.gz', line)"
      ]
    },
    {
      "cell_type": "code",
      "execution_count": 51,
      "metadata": {
        "id": "6fEnTSO-A6O5"
      },
      "outputs": [],
      "source": [
        "# Creamos el DataFrame para user_reviews\n",
        "\n",
        "def read_compressed_json(filname):\n",
        "    data_list = []\n",
        "    i = 0\n",
        "    with gzip.open(filename, 'rb') as file:\n",
        "        for line in file:\n",
        "            decode_line = line.decode('utf-8')\n",
        "            data_list.append(ast.literal_eval(decode_line.strip()))\n",
        "            i = i + 1\n",
        "            if (i==1000):\n",
        "              break\n",
        "        return data_list\n",
        "filename = 'user_reviews.json.gz'\n",
        "data = read_compressed_json(filename)\n",
        "df_user_reviews = pd.DataFrame(data)"
      ]
    },
    {
      "cell_type": "code",
      "execution_count": null,
      "metadata": {
        "colab": {
          "background_save": true,
          "base_uri": "https://localhost:8080/",
          "height": 424
        },
        "id": "93YDT4N3BEL9",
        "outputId": "ed114c7c-11e8-4e72-bd39-dd2817b2abde"
      },
      "outputs": [
        {
          "data": {
            "text/html": [
              "\n",
              "  <div id=\"df-943c0e55-9010-4cbe-a778-b00a3bd76cb1\" class=\"colab-df-container\">\n",
              "    <div>\n",
              "<style scoped>\n",
              "    .dataframe tbody tr th:only-of-type {\n",
              "        vertical-align: middle;\n",
              "    }\n",
              "\n",
              "    .dataframe tbody tr th {\n",
              "        vertical-align: top;\n",
              "    }\n",
              "\n",
              "    .dataframe thead th {\n",
              "        text-align: right;\n",
              "    }\n",
              "</style>\n",
              "<table border=\"1\" class=\"dataframe\">\n",
              "  <thead>\n",
              "    <tr style=\"text-align: right;\">\n",
              "      <th></th>\n",
              "      <th>user_id</th>\n",
              "      <th>user_url</th>\n",
              "      <th>reviews</th>\n",
              "    </tr>\n",
              "  </thead>\n",
              "  <tbody>\n",
              "    <tr>\n",
              "      <th>0</th>\n",
              "      <td>76561197970982479</td>\n",
              "      <td>http://steamcommunity.com/profiles/76561197970...</td>\n",
              "      <td>[{'funny': '', 'posted': 'Posted November 5, 2...</td>\n",
              "    </tr>\n",
              "    <tr>\n",
              "      <th>1</th>\n",
              "      <td>js41637</td>\n",
              "      <td>http://steamcommunity.com/id/js41637</td>\n",
              "      <td>[{'funny': '', 'posted': 'Posted June 24, 2014...</td>\n",
              "    </tr>\n",
              "    <tr>\n",
              "      <th>2</th>\n",
              "      <td>evcentric</td>\n",
              "      <td>http://steamcommunity.com/id/evcentric</td>\n",
              "      <td>[{'funny': '', 'posted': 'Posted February 3.',...</td>\n",
              "    </tr>\n",
              "    <tr>\n",
              "      <th>3</th>\n",
              "      <td>doctr</td>\n",
              "      <td>http://steamcommunity.com/id/doctr</td>\n",
              "      <td>[{'funny': '', 'posted': 'Posted October 14, 2...</td>\n",
              "    </tr>\n",
              "    <tr>\n",
              "      <th>4</th>\n",
              "      <td>maplemage</td>\n",
              "      <td>http://steamcommunity.com/id/maplemage</td>\n",
              "      <td>[{'funny': '3 people found this review funny',...</td>\n",
              "    </tr>\n",
              "    <tr>\n",
              "      <th>...</th>\n",
              "      <td>...</td>\n",
              "      <td>...</td>\n",
              "      <td>...</td>\n",
              "    </tr>\n",
              "    <tr>\n",
              "      <th>25794</th>\n",
              "      <td>76561198306599751</td>\n",
              "      <td>http://steamcommunity.com/profiles/76561198306...</td>\n",
              "      <td>[{'funny': '', 'posted': 'Posted May 31.', 'la...</td>\n",
              "    </tr>\n",
              "    <tr>\n",
              "      <th>25795</th>\n",
              "      <td>Ghoustik</td>\n",
              "      <td>http://steamcommunity.com/id/Ghoustik</td>\n",
              "      <td>[{'funny': '', 'posted': 'Posted June 17.', 'l...</td>\n",
              "    </tr>\n",
              "    <tr>\n",
              "      <th>25796</th>\n",
              "      <td>76561198310819422</td>\n",
              "      <td>http://steamcommunity.com/profiles/76561198310...</td>\n",
              "      <td>[{'funny': '1 person found this review funny',...</td>\n",
              "    </tr>\n",
              "    <tr>\n",
              "      <th>25797</th>\n",
              "      <td>76561198312638244</td>\n",
              "      <td>http://steamcommunity.com/profiles/76561198312...</td>\n",
              "      <td>[{'funny': '', 'posted': 'Posted July 21.', 'l...</td>\n",
              "    </tr>\n",
              "    <tr>\n",
              "      <th>25798</th>\n",
              "      <td>LydiaMorley</td>\n",
              "      <td>http://steamcommunity.com/id/LydiaMorley</td>\n",
              "      <td>[{'funny': '1 person found this review funny',...</td>\n",
              "    </tr>\n",
              "  </tbody>\n",
              "</table>\n",
              "<p>25799 rows × 3 columns</p>\n",
              "</div>\n",
              "    <div class=\"colab-df-buttons\">\n",
              "\n",
              "  <div class=\"colab-df-container\">\n",
              "    <button class=\"colab-df-convert\" onclick=\"convertToInteractive('df-943c0e55-9010-4cbe-a778-b00a3bd76cb1')\"\n",
              "            title=\"Convert this dataframe to an interactive table.\"\n",
              "            style=\"display:none;\">\n",
              "\n",
              "  <svg xmlns=\"http://www.w3.org/2000/svg\" height=\"24px\" viewBox=\"0 -960 960 960\">\n",
              "    <path d=\"M120-120v-720h720v720H120Zm60-500h600v-160H180v160Zm220 220h160v-160H400v160Zm0 220h160v-160H400v160ZM180-400h160v-160H180v160Zm440 0h160v-160H620v160ZM180-180h160v-160H180v160Zm440 0h160v-160H620v160Z\"/>\n",
              "  </svg>\n",
              "    </button>\n",
              "\n",
              "  <style>\n",
              "    .colab-df-container {\n",
              "      display:flex;\n",
              "      gap: 12px;\n",
              "    }\n",
              "\n",
              "    .colab-df-convert {\n",
              "      background-color: #E8F0FE;\n",
              "      border: none;\n",
              "      border-radius: 50%;\n",
              "      cursor: pointer;\n",
              "      display: none;\n",
              "      fill: #1967D2;\n",
              "      height: 32px;\n",
              "      padding: 0 0 0 0;\n",
              "      width: 32px;\n",
              "    }\n",
              "\n",
              "    .colab-df-convert:hover {\n",
              "      background-color: #E2EBFA;\n",
              "      box-shadow: 0px 1px 2px rgba(60, 64, 67, 0.3), 0px 1px 3px 1px rgba(60, 64, 67, 0.15);\n",
              "      fill: #174EA6;\n",
              "    }\n",
              "\n",
              "    .colab-df-buttons div {\n",
              "      margin-bottom: 4px;\n",
              "    }\n",
              "\n",
              "    [theme=dark] .colab-df-convert {\n",
              "      background-color: #3B4455;\n",
              "      fill: #D2E3FC;\n",
              "    }\n",
              "\n",
              "    [theme=dark] .colab-df-convert:hover {\n",
              "      background-color: #434B5C;\n",
              "      box-shadow: 0px 1px 3px 1px rgba(0, 0, 0, 0.15);\n",
              "      filter: drop-shadow(0px 1px 2px rgba(0, 0, 0, 0.3));\n",
              "      fill: #FFFFFF;\n",
              "    }\n",
              "  </style>\n",
              "\n",
              "    <script>\n",
              "      const buttonEl =\n",
              "        document.querySelector('#df-943c0e55-9010-4cbe-a778-b00a3bd76cb1 button.colab-df-convert');\n",
              "      buttonEl.style.display =\n",
              "        google.colab.kernel.accessAllowed ? 'block' : 'none';\n",
              "\n",
              "      async function convertToInteractive(key) {\n",
              "        const element = document.querySelector('#df-943c0e55-9010-4cbe-a778-b00a3bd76cb1');\n",
              "        const dataTable =\n",
              "          await google.colab.kernel.invokeFunction('convertToInteractive',\n",
              "                                                    [key], {});\n",
              "        if (!dataTable) return;\n",
              "\n",
              "        const docLinkHtml = 'Like what you see? Visit the ' +\n",
              "          '<a target=\"_blank\" href=https://colab.research.google.com/notebooks/data_table.ipynb>data table notebook</a>'\n",
              "          + ' to learn more about interactive tables.';\n",
              "        element.innerHTML = '';\n",
              "        dataTable['output_type'] = 'display_data';\n",
              "        await google.colab.output.renderOutput(dataTable, element);\n",
              "        const docLink = document.createElement('div');\n",
              "        docLink.innerHTML = docLinkHtml;\n",
              "        element.appendChild(docLink);\n",
              "      }\n",
              "    </script>\n",
              "  </div>\n",
              "\n",
              "\n",
              "<div id=\"df-95a9c24c-2df5-43ae-a2fd-6a56d4836cb0\">\n",
              "  <button class=\"colab-df-quickchart\" onclick=\"quickchart('df-95a9c24c-2df5-43ae-a2fd-6a56d4836cb0')\"\n",
              "            title=\"Suggest charts.\"\n",
              "            style=\"display:none;\">\n",
              "\n",
              "<svg xmlns=\"http://www.w3.org/2000/svg\" height=\"24px\"viewBox=\"0 0 24 24\"\n",
              "     width=\"24px\">\n",
              "    <g>\n",
              "        <path d=\"M19 3H5c-1.1 0-2 .9-2 2v14c0 1.1.9 2 2 2h14c1.1 0 2-.9 2-2V5c0-1.1-.9-2-2-2zM9 17H7v-7h2v7zm4 0h-2V7h2v10zm4 0h-2v-4h2v4z\"/>\n",
              "    </g>\n",
              "</svg>\n",
              "  </button>\n",
              "\n",
              "<style>\n",
              "  .colab-df-quickchart {\n",
              "      --bg-color: #E8F0FE;\n",
              "      --fill-color: #1967D2;\n",
              "      --hover-bg-color: #E2EBFA;\n",
              "      --hover-fill-color: #174EA6;\n",
              "      --disabled-fill-color: #AAA;\n",
              "      --disabled-bg-color: #DDD;\n",
              "  }\n",
              "\n",
              "  [theme=dark] .colab-df-quickchart {\n",
              "      --bg-color: #3B4455;\n",
              "      --fill-color: #D2E3FC;\n",
              "      --hover-bg-color: #434B5C;\n",
              "      --hover-fill-color: #FFFFFF;\n",
              "      --disabled-bg-color: #3B4455;\n",
              "      --disabled-fill-color: #666;\n",
              "  }\n",
              "\n",
              "  .colab-df-quickchart {\n",
              "    background-color: var(--bg-color);\n",
              "    border: none;\n",
              "    border-radius: 50%;\n",
              "    cursor: pointer;\n",
              "    display: none;\n",
              "    fill: var(--fill-color);\n",
              "    height: 32px;\n",
              "    padding: 0;\n",
              "    width: 32px;\n",
              "  }\n",
              "\n",
              "  .colab-df-quickchart:hover {\n",
              "    background-color: var(--hover-bg-color);\n",
              "    box-shadow: 0 1px 2px rgba(60, 64, 67, 0.3), 0 1px 3px 1px rgba(60, 64, 67, 0.15);\n",
              "    fill: var(--button-hover-fill-color);\n",
              "  }\n",
              "\n",
              "  .colab-df-quickchart-complete:disabled,\n",
              "  .colab-df-quickchart-complete:disabled:hover {\n",
              "    background-color: var(--disabled-bg-color);\n",
              "    fill: var(--disabled-fill-color);\n",
              "    box-shadow: none;\n",
              "  }\n",
              "\n",
              "  .colab-df-spinner {\n",
              "    border: 2px solid var(--fill-color);\n",
              "    border-color: transparent;\n",
              "    border-bottom-color: var(--fill-color);\n",
              "    animation:\n",
              "      spin 1s steps(1) infinite;\n",
              "  }\n",
              "\n",
              "  @keyframes spin {\n",
              "    0% {\n",
              "      border-color: transparent;\n",
              "      border-bottom-color: var(--fill-color);\n",
              "      border-left-color: var(--fill-color);\n",
              "    }\n",
              "    20% {\n",
              "      border-color: transparent;\n",
              "      border-left-color: var(--fill-color);\n",
              "      border-top-color: var(--fill-color);\n",
              "    }\n",
              "    30% {\n",
              "      border-color: transparent;\n",
              "      border-left-color: var(--fill-color);\n",
              "      border-top-color: var(--fill-color);\n",
              "      border-right-color: var(--fill-color);\n",
              "    }\n",
              "    40% {\n",
              "      border-color: transparent;\n",
              "      border-right-color: var(--fill-color);\n",
              "      border-top-color: var(--fill-color);\n",
              "    }\n",
              "    60% {\n",
              "      border-color: transparent;\n",
              "      border-right-color: var(--fill-color);\n",
              "    }\n",
              "    80% {\n",
              "      border-color: transparent;\n",
              "      border-right-color: var(--fill-color);\n",
              "      border-bottom-color: var(--fill-color);\n",
              "    }\n",
              "    90% {\n",
              "      border-color: transparent;\n",
              "      border-bottom-color: var(--fill-color);\n",
              "    }\n",
              "  }\n",
              "</style>\n",
              "\n",
              "  <script>\n",
              "    async function quickchart(key) {\n",
              "      const quickchartButtonEl =\n",
              "        document.querySelector('#' + key + ' button');\n",
              "      quickchartButtonEl.disabled = true;  // To prevent multiple clicks.\n",
              "      quickchartButtonEl.classList.add('colab-df-spinner');\n",
              "      try {\n",
              "        const charts = await google.colab.kernel.invokeFunction(\n",
              "            'suggestCharts', [key], {});\n",
              "      } catch (error) {\n",
              "        console.error('Error during call to suggestCharts:', error);\n",
              "      }\n",
              "      quickchartButtonEl.classList.remove('colab-df-spinner');\n",
              "      quickchartButtonEl.classList.add('colab-df-quickchart-complete');\n",
              "    }\n",
              "    (() => {\n",
              "      let quickchartButtonEl =\n",
              "        document.querySelector('#df-95a9c24c-2df5-43ae-a2fd-6a56d4836cb0 button');\n",
              "      quickchartButtonEl.style.display =\n",
              "        google.colab.kernel.accessAllowed ? 'block' : 'none';\n",
              "    })();\n",
              "  </script>\n",
              "</div>\n",
              "    </div>\n",
              "  </div>\n"
            ],
            "text/plain": [
              "                 user_id                                           user_url  \\\n",
              "0      76561197970982479  http://steamcommunity.com/profiles/76561197970...   \n",
              "1                js41637               http://steamcommunity.com/id/js41637   \n",
              "2              evcentric             http://steamcommunity.com/id/evcentric   \n",
              "3                  doctr                 http://steamcommunity.com/id/doctr   \n",
              "4              maplemage             http://steamcommunity.com/id/maplemage   \n",
              "...                  ...                                                ...   \n",
              "25794  76561198306599751  http://steamcommunity.com/profiles/76561198306...   \n",
              "25795           Ghoustik              http://steamcommunity.com/id/Ghoustik   \n",
              "25796  76561198310819422  http://steamcommunity.com/profiles/76561198310...   \n",
              "25797  76561198312638244  http://steamcommunity.com/profiles/76561198312...   \n",
              "25798        LydiaMorley           http://steamcommunity.com/id/LydiaMorley   \n",
              "\n",
              "                                                 reviews  \n",
              "0      [{'funny': '', 'posted': 'Posted November 5, 2...  \n",
              "1      [{'funny': '', 'posted': 'Posted June 24, 2014...  \n",
              "2      [{'funny': '', 'posted': 'Posted February 3.',...  \n",
              "3      [{'funny': '', 'posted': 'Posted October 14, 2...  \n",
              "4      [{'funny': '3 people found this review funny',...  \n",
              "...                                                  ...  \n",
              "25794  [{'funny': '', 'posted': 'Posted May 31.', 'la...  \n",
              "25795  [{'funny': '', 'posted': 'Posted June 17.', 'l...  \n",
              "25796  [{'funny': '1 person found this review funny',...  \n",
              "25797  [{'funny': '', 'posted': 'Posted July 21.', 'l...  \n",
              "25798  [{'funny': '1 person found this review funny',...  \n",
              "\n",
              "[25799 rows x 3 columns]"
            ]
          },
          "metadata": {},
          "output_type": "display_data"
        }
      ],
      "source": [
        "# Visualizamos el dataframe:\n",
        "display(df_user_reviews)"
      ]
    },
    {
      "cell_type": "code",
      "execution_count": null,
      "metadata": {
        "colab": {
          "background_save": true,
          "base_uri": "https://localhost:8080/"
        },
        "id": "1pfWNSc2BURf",
        "outputId": "c3fcef5b-70ce-4216-914c-e777d0506b92"
      },
      "outputs": [
        {
          "data": {
            "text/plain": [
              "user_id     0\n",
              "user_url    0\n",
              "reviews     0\n",
              "dtype: int64"
            ]
          },
          "execution_count": 9,
          "metadata": {},
          "output_type": "execute_result"
        }
      ],
      "source": [
        "# Veamos si tiene valores nulos:\n",
        "df_user_reviews.isnull().sum()"
      ]
    },
    {
      "cell_type": "code",
      "execution_count": 52,
      "metadata": {
        "colab": {
          "base_uri": "https://localhost:8080/",
          "height": 213
        },
        "id": "MkGH6aFlBcBO",
        "outputId": "31beba90-26a0-4d0d-8c7d-13bd01e82787"
      },
      "outputs": [
        {
          "output_type": "execute_result",
          "data": {
            "text/plain": [
              "             user_id                                           user_url funny  \\\n",
              "0  76561197970982479  http://steamcommunity.com/profiles/76561197970...         \n",
              "1  76561197970982479  http://steamcommunity.com/profiles/76561197970...         \n",
              "2  76561197970982479  http://steamcommunity.com/profiles/76561197970...         \n",
              "\n",
              "                     posted last_edited item_id         helpful recommend  \\\n",
              "0  Posted November 5, 2011.                1250  No ratings yet      True   \n",
              "1     Posted July 15, 2011.               22200  No ratings yet      True   \n",
              "2    Posted April 21, 2011.               43110  No ratings yet      True   \n",
              "\n",
              "                                              review  \n",
              "0  Simple yet with great replayability. In my opi...  \n",
              "1               It's unique and worth a playthrough.  \n",
              "2  Great atmosphere. The gunplay can be a bit chu...  "
            ],
            "text/html": [
              "\n",
              "  <div id=\"df-3bb181d4-0dcf-4525-bf01-5bcd232debd0\" class=\"colab-df-container\">\n",
              "    <div>\n",
              "<style scoped>\n",
              "    .dataframe tbody tr th:only-of-type {\n",
              "        vertical-align: middle;\n",
              "    }\n",
              "\n",
              "    .dataframe tbody tr th {\n",
              "        vertical-align: top;\n",
              "    }\n",
              "\n",
              "    .dataframe thead th {\n",
              "        text-align: right;\n",
              "    }\n",
              "</style>\n",
              "<table border=\"1\" class=\"dataframe\">\n",
              "  <thead>\n",
              "    <tr style=\"text-align: right;\">\n",
              "      <th></th>\n",
              "      <th>user_id</th>\n",
              "      <th>user_url</th>\n",
              "      <th>funny</th>\n",
              "      <th>posted</th>\n",
              "      <th>last_edited</th>\n",
              "      <th>item_id</th>\n",
              "      <th>helpful</th>\n",
              "      <th>recommend</th>\n",
              "      <th>review</th>\n",
              "    </tr>\n",
              "  </thead>\n",
              "  <tbody>\n",
              "    <tr>\n",
              "      <th>0</th>\n",
              "      <td>76561197970982479</td>\n",
              "      <td>http://steamcommunity.com/profiles/76561197970...</td>\n",
              "      <td></td>\n",
              "      <td>Posted November 5, 2011.</td>\n",
              "      <td></td>\n",
              "      <td>1250</td>\n",
              "      <td>No ratings yet</td>\n",
              "      <td>True</td>\n",
              "      <td>Simple yet with great replayability. In my opi...</td>\n",
              "    </tr>\n",
              "    <tr>\n",
              "      <th>1</th>\n",
              "      <td>76561197970982479</td>\n",
              "      <td>http://steamcommunity.com/profiles/76561197970...</td>\n",
              "      <td></td>\n",
              "      <td>Posted July 15, 2011.</td>\n",
              "      <td></td>\n",
              "      <td>22200</td>\n",
              "      <td>No ratings yet</td>\n",
              "      <td>True</td>\n",
              "      <td>It's unique and worth a playthrough.</td>\n",
              "    </tr>\n",
              "    <tr>\n",
              "      <th>2</th>\n",
              "      <td>76561197970982479</td>\n",
              "      <td>http://steamcommunity.com/profiles/76561197970...</td>\n",
              "      <td></td>\n",
              "      <td>Posted April 21, 2011.</td>\n",
              "      <td></td>\n",
              "      <td>43110</td>\n",
              "      <td>No ratings yet</td>\n",
              "      <td>True</td>\n",
              "      <td>Great atmosphere. The gunplay can be a bit chu...</td>\n",
              "    </tr>\n",
              "  </tbody>\n",
              "</table>\n",
              "</div>\n",
              "    <div class=\"colab-df-buttons\">\n",
              "\n",
              "  <div class=\"colab-df-container\">\n",
              "    <button class=\"colab-df-convert\" onclick=\"convertToInteractive('df-3bb181d4-0dcf-4525-bf01-5bcd232debd0')\"\n",
              "            title=\"Convert this dataframe to an interactive table.\"\n",
              "            style=\"display:none;\">\n",
              "\n",
              "  <svg xmlns=\"http://www.w3.org/2000/svg\" height=\"24px\" viewBox=\"0 -960 960 960\">\n",
              "    <path d=\"M120-120v-720h720v720H120Zm60-500h600v-160H180v160Zm220 220h160v-160H400v160Zm0 220h160v-160H400v160ZM180-400h160v-160H180v160Zm440 0h160v-160H620v160ZM180-180h160v-160H180v160Zm440 0h160v-160H620v160Z\"/>\n",
              "  </svg>\n",
              "    </button>\n",
              "\n",
              "  <style>\n",
              "    .colab-df-container {\n",
              "      display:flex;\n",
              "      gap: 12px;\n",
              "    }\n",
              "\n",
              "    .colab-df-convert {\n",
              "      background-color: #E8F0FE;\n",
              "      border: none;\n",
              "      border-radius: 50%;\n",
              "      cursor: pointer;\n",
              "      display: none;\n",
              "      fill: #1967D2;\n",
              "      height: 32px;\n",
              "      padding: 0 0 0 0;\n",
              "      width: 32px;\n",
              "    }\n",
              "\n",
              "    .colab-df-convert:hover {\n",
              "      background-color: #E2EBFA;\n",
              "      box-shadow: 0px 1px 2px rgba(60, 64, 67, 0.3), 0px 1px 3px 1px rgba(60, 64, 67, 0.15);\n",
              "      fill: #174EA6;\n",
              "    }\n",
              "\n",
              "    .colab-df-buttons div {\n",
              "      margin-bottom: 4px;\n",
              "    }\n",
              "\n",
              "    [theme=dark] .colab-df-convert {\n",
              "      background-color: #3B4455;\n",
              "      fill: #D2E3FC;\n",
              "    }\n",
              "\n",
              "    [theme=dark] .colab-df-convert:hover {\n",
              "      background-color: #434B5C;\n",
              "      box-shadow: 0px 1px 3px 1px rgba(0, 0, 0, 0.15);\n",
              "      filter: drop-shadow(0px 1px 2px rgba(0, 0, 0, 0.3));\n",
              "      fill: #FFFFFF;\n",
              "    }\n",
              "  </style>\n",
              "\n",
              "    <script>\n",
              "      const buttonEl =\n",
              "        document.querySelector('#df-3bb181d4-0dcf-4525-bf01-5bcd232debd0 button.colab-df-convert');\n",
              "      buttonEl.style.display =\n",
              "        google.colab.kernel.accessAllowed ? 'block' : 'none';\n",
              "\n",
              "      async function convertToInteractive(key) {\n",
              "        const element = document.querySelector('#df-3bb181d4-0dcf-4525-bf01-5bcd232debd0');\n",
              "        const dataTable =\n",
              "          await google.colab.kernel.invokeFunction('convertToInteractive',\n",
              "                                                    [key], {});\n",
              "        if (!dataTable) return;\n",
              "\n",
              "        const docLinkHtml = 'Like what you see? Visit the ' +\n",
              "          '<a target=\"_blank\" href=https://colab.research.google.com/notebooks/data_table.ipynb>data table notebook</a>'\n",
              "          + ' to learn more about interactive tables.';\n",
              "        element.innerHTML = '';\n",
              "        dataTable['output_type'] = 'display_data';\n",
              "        await google.colab.output.renderOutput(dataTable, element);\n",
              "        const docLink = document.createElement('div');\n",
              "        docLink.innerHTML = docLinkHtml;\n",
              "        element.appendChild(docLink);\n",
              "      }\n",
              "    </script>\n",
              "  </div>\n",
              "\n",
              "\n",
              "<div id=\"df-138ea2b7-7330-4740-a06c-2abeccef742b\">\n",
              "  <button class=\"colab-df-quickchart\" onclick=\"quickchart('df-138ea2b7-7330-4740-a06c-2abeccef742b')\"\n",
              "            title=\"Suggest charts.\"\n",
              "            style=\"display:none;\">\n",
              "\n",
              "<svg xmlns=\"http://www.w3.org/2000/svg\" height=\"24px\"viewBox=\"0 0 24 24\"\n",
              "     width=\"24px\">\n",
              "    <g>\n",
              "        <path d=\"M19 3H5c-1.1 0-2 .9-2 2v14c0 1.1.9 2 2 2h14c1.1 0 2-.9 2-2V5c0-1.1-.9-2-2-2zM9 17H7v-7h2v7zm4 0h-2V7h2v10zm4 0h-2v-4h2v4z\"/>\n",
              "    </g>\n",
              "</svg>\n",
              "  </button>\n",
              "\n",
              "<style>\n",
              "  .colab-df-quickchart {\n",
              "      --bg-color: #E8F0FE;\n",
              "      --fill-color: #1967D2;\n",
              "      --hover-bg-color: #E2EBFA;\n",
              "      --hover-fill-color: #174EA6;\n",
              "      --disabled-fill-color: #AAA;\n",
              "      --disabled-bg-color: #DDD;\n",
              "  }\n",
              "\n",
              "  [theme=dark] .colab-df-quickchart {\n",
              "      --bg-color: #3B4455;\n",
              "      --fill-color: #D2E3FC;\n",
              "      --hover-bg-color: #434B5C;\n",
              "      --hover-fill-color: #FFFFFF;\n",
              "      --disabled-bg-color: #3B4455;\n",
              "      --disabled-fill-color: #666;\n",
              "  }\n",
              "\n",
              "  .colab-df-quickchart {\n",
              "    background-color: var(--bg-color);\n",
              "    border: none;\n",
              "    border-radius: 50%;\n",
              "    cursor: pointer;\n",
              "    display: none;\n",
              "    fill: var(--fill-color);\n",
              "    height: 32px;\n",
              "    padding: 0;\n",
              "    width: 32px;\n",
              "  }\n",
              "\n",
              "  .colab-df-quickchart:hover {\n",
              "    background-color: var(--hover-bg-color);\n",
              "    box-shadow: 0 1px 2px rgba(60, 64, 67, 0.3), 0 1px 3px 1px rgba(60, 64, 67, 0.15);\n",
              "    fill: var(--button-hover-fill-color);\n",
              "  }\n",
              "\n",
              "  .colab-df-quickchart-complete:disabled,\n",
              "  .colab-df-quickchart-complete:disabled:hover {\n",
              "    background-color: var(--disabled-bg-color);\n",
              "    fill: var(--disabled-fill-color);\n",
              "    box-shadow: none;\n",
              "  }\n",
              "\n",
              "  .colab-df-spinner {\n",
              "    border: 2px solid var(--fill-color);\n",
              "    border-color: transparent;\n",
              "    border-bottom-color: var(--fill-color);\n",
              "    animation:\n",
              "      spin 1s steps(1) infinite;\n",
              "  }\n",
              "\n",
              "  @keyframes spin {\n",
              "    0% {\n",
              "      border-color: transparent;\n",
              "      border-bottom-color: var(--fill-color);\n",
              "      border-left-color: var(--fill-color);\n",
              "    }\n",
              "    20% {\n",
              "      border-color: transparent;\n",
              "      border-left-color: var(--fill-color);\n",
              "      border-top-color: var(--fill-color);\n",
              "    }\n",
              "    30% {\n",
              "      border-color: transparent;\n",
              "      border-left-color: var(--fill-color);\n",
              "      border-top-color: var(--fill-color);\n",
              "      border-right-color: var(--fill-color);\n",
              "    }\n",
              "    40% {\n",
              "      border-color: transparent;\n",
              "      border-right-color: var(--fill-color);\n",
              "      border-top-color: var(--fill-color);\n",
              "    }\n",
              "    60% {\n",
              "      border-color: transparent;\n",
              "      border-right-color: var(--fill-color);\n",
              "    }\n",
              "    80% {\n",
              "      border-color: transparent;\n",
              "      border-right-color: var(--fill-color);\n",
              "      border-bottom-color: var(--fill-color);\n",
              "    }\n",
              "    90% {\n",
              "      border-color: transparent;\n",
              "      border-bottom-color: var(--fill-color);\n",
              "    }\n",
              "  }\n",
              "</style>\n",
              "\n",
              "  <script>\n",
              "    async function quickchart(key) {\n",
              "      const quickchartButtonEl =\n",
              "        document.querySelector('#' + key + ' button');\n",
              "      quickchartButtonEl.disabled = true;  // To prevent multiple clicks.\n",
              "      quickchartButtonEl.classList.add('colab-df-spinner');\n",
              "      try {\n",
              "        const charts = await google.colab.kernel.invokeFunction(\n",
              "            'suggestCharts', [key], {});\n",
              "      } catch (error) {\n",
              "        console.error('Error during call to suggestCharts:', error);\n",
              "      }\n",
              "      quickchartButtonEl.classList.remove('colab-df-spinner');\n",
              "      quickchartButtonEl.classList.add('colab-df-quickchart-complete');\n",
              "    }\n",
              "    (() => {\n",
              "      let quickchartButtonEl =\n",
              "        document.querySelector('#df-138ea2b7-7330-4740-a06c-2abeccef742b button');\n",
              "      quickchartButtonEl.style.display =\n",
              "        google.colab.kernel.accessAllowed ? 'block' : 'none';\n",
              "    })();\n",
              "  </script>\n",
              "</div>\n",
              "    </div>\n",
              "  </div>\n"
            ]
          },
          "metadata": {},
          "execution_count": 52
        }
      ],
      "source": [
        "# Como se puede ver en la pimera visualización, hay datos anidados en la columna \"reviews\" y necesitamos separarlos, por lo que se procede a utilizar el médoto explode o split, en esta oportunidad, utilizamos explode:\n",
        "\n",
        "df_user_reviews_explode = df_user_reviews.explode('reviews')\n",
        "\n",
        "df_user_reviews_explode.reset_index(drop=True, inplace=True)\n",
        "\n",
        "# Utilizamos pd.json_normalize para crear columnas para cada clave en los diccionarios\n",
        "df_user_reviews_explode = pd.concat([df_user_reviews_explode, pd.json_normalize(df_user_reviews_explode['reviews'])], axis=1)\n",
        "\n",
        "# Eliminamos la columna 'reviews' original\n",
        "df_user_reviews_explode.drop(columns=['reviews'], inplace=True)\n",
        "\n",
        "df_user_reviews_explode.head(3)"
      ]
    },
    {
      "cell_type": "code",
      "execution_count": 53,
      "metadata": {
        "id": "qOvd6-LVB8CT"
      },
      "outputs": [],
      "source": [
        "# Ahora nos quedaría trabajar con la columna \"posted\" ya que necesitamos \"fecha\" asi que la creamos:\n",
        "df_user_reviews_explode['posted'] = df_user_reviews_explode['posted'].astype(str)\n",
        "df_user_reviews_explode['fecha'] = df_user_reviews_explode['posted'].apply(lambda x: x[7:])"
      ]
    },
    {
      "cell_type": "code",
      "execution_count": null,
      "metadata": {
        "colab": {
          "background_save": true,
          "base_uri": "https://localhost:8080/",
          "height": 248
        },
        "id": "qbWZ2QAsCL_9",
        "outputId": "5b7c4508-12f1-4094-964a-727ec65f79b8"
      },
      "outputs": [
        {
          "data": {
            "text/html": [
              "\n",
              "  <div id=\"df-c6a76186-5e66-45b2-8ad1-dda43cb9da01\" class=\"colab-df-container\">\n",
              "    <div>\n",
              "<style scoped>\n",
              "    .dataframe tbody tr th:only-of-type {\n",
              "        vertical-align: middle;\n",
              "    }\n",
              "\n",
              "    .dataframe tbody tr th {\n",
              "        vertical-align: top;\n",
              "    }\n",
              "\n",
              "    .dataframe thead th {\n",
              "        text-align: right;\n",
              "    }\n",
              "</style>\n",
              "<table border=\"1\" class=\"dataframe\">\n",
              "  <thead>\n",
              "    <tr style=\"text-align: right;\">\n",
              "      <th></th>\n",
              "      <th>user_id</th>\n",
              "      <th>user_url</th>\n",
              "      <th>funny</th>\n",
              "      <th>posted</th>\n",
              "      <th>last_edited</th>\n",
              "      <th>item_id</th>\n",
              "      <th>helpful</th>\n",
              "      <th>recommend</th>\n",
              "      <th>review</th>\n",
              "      <th>fecha</th>\n",
              "    </tr>\n",
              "  </thead>\n",
              "  <tbody>\n",
              "    <tr>\n",
              "      <th>0</th>\n",
              "      <td>76561197970982479</td>\n",
              "      <td>http://steamcommunity.com/profiles/76561197970...</td>\n",
              "      <td></td>\n",
              "      <td>Posted November 5, 2011.</td>\n",
              "      <td></td>\n",
              "      <td>1250</td>\n",
              "      <td>No ratings yet</td>\n",
              "      <td>True</td>\n",
              "      <td>Simple yet with great replayability. In my opi...</td>\n",
              "      <td>November 5, 2011.</td>\n",
              "    </tr>\n",
              "    <tr>\n",
              "      <th>1</th>\n",
              "      <td>76561197970982479</td>\n",
              "      <td>http://steamcommunity.com/profiles/76561197970...</td>\n",
              "      <td></td>\n",
              "      <td>Posted July 15, 2011.</td>\n",
              "      <td></td>\n",
              "      <td>22200</td>\n",
              "      <td>No ratings yet</td>\n",
              "      <td>True</td>\n",
              "      <td>It's unique and worth a playthrough.</td>\n",
              "      <td>July 15, 2011.</td>\n",
              "    </tr>\n",
              "    <tr>\n",
              "      <th>2</th>\n",
              "      <td>76561197970982479</td>\n",
              "      <td>http://steamcommunity.com/profiles/76561197970...</td>\n",
              "      <td></td>\n",
              "      <td>Posted April 21, 2011.</td>\n",
              "      <td></td>\n",
              "      <td>43110</td>\n",
              "      <td>No ratings yet</td>\n",
              "      <td>True</td>\n",
              "      <td>Great atmosphere. The gunplay can be a bit chu...</td>\n",
              "      <td>April 21, 2011.</td>\n",
              "    </tr>\n",
              "  </tbody>\n",
              "</table>\n",
              "</div>\n",
              "    <div class=\"colab-df-buttons\">\n",
              "\n",
              "  <div class=\"colab-df-container\">\n",
              "    <button class=\"colab-df-convert\" onclick=\"convertToInteractive('df-c6a76186-5e66-45b2-8ad1-dda43cb9da01')\"\n",
              "            title=\"Convert this dataframe to an interactive table.\"\n",
              "            style=\"display:none;\">\n",
              "\n",
              "  <svg xmlns=\"http://www.w3.org/2000/svg\" height=\"24px\" viewBox=\"0 -960 960 960\">\n",
              "    <path d=\"M120-120v-720h720v720H120Zm60-500h600v-160H180v160Zm220 220h160v-160H400v160Zm0 220h160v-160H400v160ZM180-400h160v-160H180v160Zm440 0h160v-160H620v160ZM180-180h160v-160H180v160Zm440 0h160v-160H620v160Z\"/>\n",
              "  </svg>\n",
              "    </button>\n",
              "\n",
              "  <style>\n",
              "    .colab-df-container {\n",
              "      display:flex;\n",
              "      gap: 12px;\n",
              "    }\n",
              "\n",
              "    .colab-df-convert {\n",
              "      background-color: #E8F0FE;\n",
              "      border: none;\n",
              "      border-radius: 50%;\n",
              "      cursor: pointer;\n",
              "      display: none;\n",
              "      fill: #1967D2;\n",
              "      height: 32px;\n",
              "      padding: 0 0 0 0;\n",
              "      width: 32px;\n",
              "    }\n",
              "\n",
              "    .colab-df-convert:hover {\n",
              "      background-color: #E2EBFA;\n",
              "      box-shadow: 0px 1px 2px rgba(60, 64, 67, 0.3), 0px 1px 3px 1px rgba(60, 64, 67, 0.15);\n",
              "      fill: #174EA6;\n",
              "    }\n",
              "\n",
              "    .colab-df-buttons div {\n",
              "      margin-bottom: 4px;\n",
              "    }\n",
              "\n",
              "    [theme=dark] .colab-df-convert {\n",
              "      background-color: #3B4455;\n",
              "      fill: #D2E3FC;\n",
              "    }\n",
              "\n",
              "    [theme=dark] .colab-df-convert:hover {\n",
              "      background-color: #434B5C;\n",
              "      box-shadow: 0px 1px 3px 1px rgba(0, 0, 0, 0.15);\n",
              "      filter: drop-shadow(0px 1px 2px rgba(0, 0, 0, 0.3));\n",
              "      fill: #FFFFFF;\n",
              "    }\n",
              "  </style>\n",
              "\n",
              "    <script>\n",
              "      const buttonEl =\n",
              "        document.querySelector('#df-c6a76186-5e66-45b2-8ad1-dda43cb9da01 button.colab-df-convert');\n",
              "      buttonEl.style.display =\n",
              "        google.colab.kernel.accessAllowed ? 'block' : 'none';\n",
              "\n",
              "      async function convertToInteractive(key) {\n",
              "        const element = document.querySelector('#df-c6a76186-5e66-45b2-8ad1-dda43cb9da01');\n",
              "        const dataTable =\n",
              "          await google.colab.kernel.invokeFunction('convertToInteractive',\n",
              "                                                    [key], {});\n",
              "        if (!dataTable) return;\n",
              "\n",
              "        const docLinkHtml = 'Like what you see? Visit the ' +\n",
              "          '<a target=\"_blank\" href=https://colab.research.google.com/notebooks/data_table.ipynb>data table notebook</a>'\n",
              "          + ' to learn more about interactive tables.';\n",
              "        element.innerHTML = '';\n",
              "        dataTable['output_type'] = 'display_data';\n",
              "        await google.colab.output.renderOutput(dataTable, element);\n",
              "        const docLink = document.createElement('div');\n",
              "        docLink.innerHTML = docLinkHtml;\n",
              "        element.appendChild(docLink);\n",
              "      }\n",
              "    </script>\n",
              "  </div>\n",
              "\n",
              "\n",
              "<div id=\"df-13538967-ac00-4ed7-841e-55d82224ea69\">\n",
              "  <button class=\"colab-df-quickchart\" onclick=\"quickchart('df-13538967-ac00-4ed7-841e-55d82224ea69')\"\n",
              "            title=\"Suggest charts.\"\n",
              "            style=\"display:none;\">\n",
              "\n",
              "<svg xmlns=\"http://www.w3.org/2000/svg\" height=\"24px\"viewBox=\"0 0 24 24\"\n",
              "     width=\"24px\">\n",
              "    <g>\n",
              "        <path d=\"M19 3H5c-1.1 0-2 .9-2 2v14c0 1.1.9 2 2 2h14c1.1 0 2-.9 2-2V5c0-1.1-.9-2-2-2zM9 17H7v-7h2v7zm4 0h-2V7h2v10zm4 0h-2v-4h2v4z\"/>\n",
              "    </g>\n",
              "</svg>\n",
              "  </button>\n",
              "\n",
              "<style>\n",
              "  .colab-df-quickchart {\n",
              "      --bg-color: #E8F0FE;\n",
              "      --fill-color: #1967D2;\n",
              "      --hover-bg-color: #E2EBFA;\n",
              "      --hover-fill-color: #174EA6;\n",
              "      --disabled-fill-color: #AAA;\n",
              "      --disabled-bg-color: #DDD;\n",
              "  }\n",
              "\n",
              "  [theme=dark] .colab-df-quickchart {\n",
              "      --bg-color: #3B4455;\n",
              "      --fill-color: #D2E3FC;\n",
              "      --hover-bg-color: #434B5C;\n",
              "      --hover-fill-color: #FFFFFF;\n",
              "      --disabled-bg-color: #3B4455;\n",
              "      --disabled-fill-color: #666;\n",
              "  }\n",
              "\n",
              "  .colab-df-quickchart {\n",
              "    background-color: var(--bg-color);\n",
              "    border: none;\n",
              "    border-radius: 50%;\n",
              "    cursor: pointer;\n",
              "    display: none;\n",
              "    fill: var(--fill-color);\n",
              "    height: 32px;\n",
              "    padding: 0;\n",
              "    width: 32px;\n",
              "  }\n",
              "\n",
              "  .colab-df-quickchart:hover {\n",
              "    background-color: var(--hover-bg-color);\n",
              "    box-shadow: 0 1px 2px rgba(60, 64, 67, 0.3), 0 1px 3px 1px rgba(60, 64, 67, 0.15);\n",
              "    fill: var(--button-hover-fill-color);\n",
              "  }\n",
              "\n",
              "  .colab-df-quickchart-complete:disabled,\n",
              "  .colab-df-quickchart-complete:disabled:hover {\n",
              "    background-color: var(--disabled-bg-color);\n",
              "    fill: var(--disabled-fill-color);\n",
              "    box-shadow: none;\n",
              "  }\n",
              "\n",
              "  .colab-df-spinner {\n",
              "    border: 2px solid var(--fill-color);\n",
              "    border-color: transparent;\n",
              "    border-bottom-color: var(--fill-color);\n",
              "    animation:\n",
              "      spin 1s steps(1) infinite;\n",
              "  }\n",
              "\n",
              "  @keyframes spin {\n",
              "    0% {\n",
              "      border-color: transparent;\n",
              "      border-bottom-color: var(--fill-color);\n",
              "      border-left-color: var(--fill-color);\n",
              "    }\n",
              "    20% {\n",
              "      border-color: transparent;\n",
              "      border-left-color: var(--fill-color);\n",
              "      border-top-color: var(--fill-color);\n",
              "    }\n",
              "    30% {\n",
              "      border-color: transparent;\n",
              "      border-left-color: var(--fill-color);\n",
              "      border-top-color: var(--fill-color);\n",
              "      border-right-color: var(--fill-color);\n",
              "    }\n",
              "    40% {\n",
              "      border-color: transparent;\n",
              "      border-right-color: var(--fill-color);\n",
              "      border-top-color: var(--fill-color);\n",
              "    }\n",
              "    60% {\n",
              "      border-color: transparent;\n",
              "      border-right-color: var(--fill-color);\n",
              "    }\n",
              "    80% {\n",
              "      border-color: transparent;\n",
              "      border-right-color: var(--fill-color);\n",
              "      border-bottom-color: var(--fill-color);\n",
              "    }\n",
              "    90% {\n",
              "      border-color: transparent;\n",
              "      border-bottom-color: var(--fill-color);\n",
              "    }\n",
              "  }\n",
              "</style>\n",
              "\n",
              "  <script>\n",
              "    async function quickchart(key) {\n",
              "      const quickchartButtonEl =\n",
              "        document.querySelector('#' + key + ' button');\n",
              "      quickchartButtonEl.disabled = true;  // To prevent multiple clicks.\n",
              "      quickchartButtonEl.classList.add('colab-df-spinner');\n",
              "      try {\n",
              "        const charts = await google.colab.kernel.invokeFunction(\n",
              "            'suggestCharts', [key], {});\n",
              "      } catch (error) {\n",
              "        console.error('Error during call to suggestCharts:', error);\n",
              "      }\n",
              "      quickchartButtonEl.classList.remove('colab-df-spinner');\n",
              "      quickchartButtonEl.classList.add('colab-df-quickchart-complete');\n",
              "    }\n",
              "    (() => {\n",
              "      let quickchartButtonEl =\n",
              "        document.querySelector('#df-13538967-ac00-4ed7-841e-55d82224ea69 button');\n",
              "      quickchartButtonEl.style.display =\n",
              "        google.colab.kernel.accessAllowed ? 'block' : 'none';\n",
              "    })();\n",
              "  </script>\n",
              "</div>\n",
              "    </div>\n",
              "  </div>\n"
            ],
            "text/plain": [
              "             user_id                                           user_url funny  \\\n",
              "0  76561197970982479  http://steamcommunity.com/profiles/76561197970...         \n",
              "1  76561197970982479  http://steamcommunity.com/profiles/76561197970...         \n",
              "2  76561197970982479  http://steamcommunity.com/profiles/76561197970...         \n",
              "\n",
              "                     posted last_edited item_id         helpful recommend  \\\n",
              "0  Posted November 5, 2011.                1250  No ratings yet      True   \n",
              "1     Posted July 15, 2011.               22200  No ratings yet      True   \n",
              "2    Posted April 21, 2011.               43110  No ratings yet      True   \n",
              "\n",
              "                                              review              fecha  \n",
              "0  Simple yet with great replayability. In my opi...  November 5, 2011.  \n",
              "1               It's unique and worth a playthrough.     July 15, 2011.  \n",
              "2  Great atmosphere. The gunplay can be a bit chu...    April 21, 2011.  "
            ]
          },
          "execution_count": 12,
          "metadata": {},
          "output_type": "execute_result"
        }
      ],
      "source": [
        "# Veamos como quedaría:\n",
        "df_user_reviews_explode.head(3)"
      ]
    },
    {
      "cell_type": "code",
      "execution_count": 54,
      "metadata": {
        "colab": {
          "base_uri": "https://localhost:8080/",
          "height": 147
        },
        "id": "gEg7LSDwCWvC",
        "outputId": "586678de-3a8c-41d5-f78f-46bb4d00fc3c"
      },
      "outputs": [
        {
          "output_type": "execute_result",
          "data": {
            "text/plain": [
              "             user_id                                           user_url  \\\n",
              "0  76561197970982479  http://steamcommunity.com/profiles/76561197970...   \n",
              "1  76561197970982479  http://steamcommunity.com/profiles/76561197970...   \n",
              "\n",
              "  last_edited item_id         helpful recommend  \\\n",
              "0                1250  No ratings yet      True   \n",
              "1               22200  No ratings yet      True   \n",
              "\n",
              "                                              review      fecha  \n",
              "0  Simple yet with great replayability. In my opi... 2011-11-05  \n",
              "1               It's unique and worth a playthrough. 2011-07-15  "
            ],
            "text/html": [
              "\n",
              "  <div id=\"df-02108702-4278-4be2-b0e9-2d35237a46ce\" class=\"colab-df-container\">\n",
              "    <div>\n",
              "<style scoped>\n",
              "    .dataframe tbody tr th:only-of-type {\n",
              "        vertical-align: middle;\n",
              "    }\n",
              "\n",
              "    .dataframe tbody tr th {\n",
              "        vertical-align: top;\n",
              "    }\n",
              "\n",
              "    .dataframe thead th {\n",
              "        text-align: right;\n",
              "    }\n",
              "</style>\n",
              "<table border=\"1\" class=\"dataframe\">\n",
              "  <thead>\n",
              "    <tr style=\"text-align: right;\">\n",
              "      <th></th>\n",
              "      <th>user_id</th>\n",
              "      <th>user_url</th>\n",
              "      <th>last_edited</th>\n",
              "      <th>item_id</th>\n",
              "      <th>helpful</th>\n",
              "      <th>recommend</th>\n",
              "      <th>review</th>\n",
              "      <th>fecha</th>\n",
              "    </tr>\n",
              "  </thead>\n",
              "  <tbody>\n",
              "    <tr>\n",
              "      <th>0</th>\n",
              "      <td>76561197970982479</td>\n",
              "      <td>http://steamcommunity.com/profiles/76561197970...</td>\n",
              "      <td></td>\n",
              "      <td>1250</td>\n",
              "      <td>No ratings yet</td>\n",
              "      <td>True</td>\n",
              "      <td>Simple yet with great replayability. In my opi...</td>\n",
              "      <td>2011-11-05</td>\n",
              "    </tr>\n",
              "    <tr>\n",
              "      <th>1</th>\n",
              "      <td>76561197970982479</td>\n",
              "      <td>http://steamcommunity.com/profiles/76561197970...</td>\n",
              "      <td></td>\n",
              "      <td>22200</td>\n",
              "      <td>No ratings yet</td>\n",
              "      <td>True</td>\n",
              "      <td>It's unique and worth a playthrough.</td>\n",
              "      <td>2011-07-15</td>\n",
              "    </tr>\n",
              "  </tbody>\n",
              "</table>\n",
              "</div>\n",
              "    <div class=\"colab-df-buttons\">\n",
              "\n",
              "  <div class=\"colab-df-container\">\n",
              "    <button class=\"colab-df-convert\" onclick=\"convertToInteractive('df-02108702-4278-4be2-b0e9-2d35237a46ce')\"\n",
              "            title=\"Convert this dataframe to an interactive table.\"\n",
              "            style=\"display:none;\">\n",
              "\n",
              "  <svg xmlns=\"http://www.w3.org/2000/svg\" height=\"24px\" viewBox=\"0 -960 960 960\">\n",
              "    <path d=\"M120-120v-720h720v720H120Zm60-500h600v-160H180v160Zm220 220h160v-160H400v160Zm0 220h160v-160H400v160ZM180-400h160v-160H180v160Zm440 0h160v-160H620v160ZM180-180h160v-160H180v160Zm440 0h160v-160H620v160Z\"/>\n",
              "  </svg>\n",
              "    </button>\n",
              "\n",
              "  <style>\n",
              "    .colab-df-container {\n",
              "      display:flex;\n",
              "      gap: 12px;\n",
              "    }\n",
              "\n",
              "    .colab-df-convert {\n",
              "      background-color: #E8F0FE;\n",
              "      border: none;\n",
              "      border-radius: 50%;\n",
              "      cursor: pointer;\n",
              "      display: none;\n",
              "      fill: #1967D2;\n",
              "      height: 32px;\n",
              "      padding: 0 0 0 0;\n",
              "      width: 32px;\n",
              "    }\n",
              "\n",
              "    .colab-df-convert:hover {\n",
              "      background-color: #E2EBFA;\n",
              "      box-shadow: 0px 1px 2px rgba(60, 64, 67, 0.3), 0px 1px 3px 1px rgba(60, 64, 67, 0.15);\n",
              "      fill: #174EA6;\n",
              "    }\n",
              "\n",
              "    .colab-df-buttons div {\n",
              "      margin-bottom: 4px;\n",
              "    }\n",
              "\n",
              "    [theme=dark] .colab-df-convert {\n",
              "      background-color: #3B4455;\n",
              "      fill: #D2E3FC;\n",
              "    }\n",
              "\n",
              "    [theme=dark] .colab-df-convert:hover {\n",
              "      background-color: #434B5C;\n",
              "      box-shadow: 0px 1px 3px 1px rgba(0, 0, 0, 0.15);\n",
              "      filter: drop-shadow(0px 1px 2px rgba(0, 0, 0, 0.3));\n",
              "      fill: #FFFFFF;\n",
              "    }\n",
              "  </style>\n",
              "\n",
              "    <script>\n",
              "      const buttonEl =\n",
              "        document.querySelector('#df-02108702-4278-4be2-b0e9-2d35237a46ce button.colab-df-convert');\n",
              "      buttonEl.style.display =\n",
              "        google.colab.kernel.accessAllowed ? 'block' : 'none';\n",
              "\n",
              "      async function convertToInteractive(key) {\n",
              "        const element = document.querySelector('#df-02108702-4278-4be2-b0e9-2d35237a46ce');\n",
              "        const dataTable =\n",
              "          await google.colab.kernel.invokeFunction('convertToInteractive',\n",
              "                                                    [key], {});\n",
              "        if (!dataTable) return;\n",
              "\n",
              "        const docLinkHtml = 'Like what you see? Visit the ' +\n",
              "          '<a target=\"_blank\" href=https://colab.research.google.com/notebooks/data_table.ipynb>data table notebook</a>'\n",
              "          + ' to learn more about interactive tables.';\n",
              "        element.innerHTML = '';\n",
              "        dataTable['output_type'] = 'display_data';\n",
              "        await google.colab.output.renderOutput(dataTable, element);\n",
              "        const docLink = document.createElement('div');\n",
              "        docLink.innerHTML = docLinkHtml;\n",
              "        element.appendChild(docLink);\n",
              "      }\n",
              "    </script>\n",
              "  </div>\n",
              "\n",
              "\n",
              "<div id=\"df-bb55eb6e-f59b-419f-8a78-246b82961443\">\n",
              "  <button class=\"colab-df-quickchart\" onclick=\"quickchart('df-bb55eb6e-f59b-419f-8a78-246b82961443')\"\n",
              "            title=\"Suggest charts.\"\n",
              "            style=\"display:none;\">\n",
              "\n",
              "<svg xmlns=\"http://www.w3.org/2000/svg\" height=\"24px\"viewBox=\"0 0 24 24\"\n",
              "     width=\"24px\">\n",
              "    <g>\n",
              "        <path d=\"M19 3H5c-1.1 0-2 .9-2 2v14c0 1.1.9 2 2 2h14c1.1 0 2-.9 2-2V5c0-1.1-.9-2-2-2zM9 17H7v-7h2v7zm4 0h-2V7h2v10zm4 0h-2v-4h2v4z\"/>\n",
              "    </g>\n",
              "</svg>\n",
              "  </button>\n",
              "\n",
              "<style>\n",
              "  .colab-df-quickchart {\n",
              "      --bg-color: #E8F0FE;\n",
              "      --fill-color: #1967D2;\n",
              "      --hover-bg-color: #E2EBFA;\n",
              "      --hover-fill-color: #174EA6;\n",
              "      --disabled-fill-color: #AAA;\n",
              "      --disabled-bg-color: #DDD;\n",
              "  }\n",
              "\n",
              "  [theme=dark] .colab-df-quickchart {\n",
              "      --bg-color: #3B4455;\n",
              "      --fill-color: #D2E3FC;\n",
              "      --hover-bg-color: #434B5C;\n",
              "      --hover-fill-color: #FFFFFF;\n",
              "      --disabled-bg-color: #3B4455;\n",
              "      --disabled-fill-color: #666;\n",
              "  }\n",
              "\n",
              "  .colab-df-quickchart {\n",
              "    background-color: var(--bg-color);\n",
              "    border: none;\n",
              "    border-radius: 50%;\n",
              "    cursor: pointer;\n",
              "    display: none;\n",
              "    fill: var(--fill-color);\n",
              "    height: 32px;\n",
              "    padding: 0;\n",
              "    width: 32px;\n",
              "  }\n",
              "\n",
              "  .colab-df-quickchart:hover {\n",
              "    background-color: var(--hover-bg-color);\n",
              "    box-shadow: 0 1px 2px rgba(60, 64, 67, 0.3), 0 1px 3px 1px rgba(60, 64, 67, 0.15);\n",
              "    fill: var(--button-hover-fill-color);\n",
              "  }\n",
              "\n",
              "  .colab-df-quickchart-complete:disabled,\n",
              "  .colab-df-quickchart-complete:disabled:hover {\n",
              "    background-color: var(--disabled-bg-color);\n",
              "    fill: var(--disabled-fill-color);\n",
              "    box-shadow: none;\n",
              "  }\n",
              "\n",
              "  .colab-df-spinner {\n",
              "    border: 2px solid var(--fill-color);\n",
              "    border-color: transparent;\n",
              "    border-bottom-color: var(--fill-color);\n",
              "    animation:\n",
              "      spin 1s steps(1) infinite;\n",
              "  }\n",
              "\n",
              "  @keyframes spin {\n",
              "    0% {\n",
              "      border-color: transparent;\n",
              "      border-bottom-color: var(--fill-color);\n",
              "      border-left-color: var(--fill-color);\n",
              "    }\n",
              "    20% {\n",
              "      border-color: transparent;\n",
              "      border-left-color: var(--fill-color);\n",
              "      border-top-color: var(--fill-color);\n",
              "    }\n",
              "    30% {\n",
              "      border-color: transparent;\n",
              "      border-left-color: var(--fill-color);\n",
              "      border-top-color: var(--fill-color);\n",
              "      border-right-color: var(--fill-color);\n",
              "    }\n",
              "    40% {\n",
              "      border-color: transparent;\n",
              "      border-right-color: var(--fill-color);\n",
              "      border-top-color: var(--fill-color);\n",
              "    }\n",
              "    60% {\n",
              "      border-color: transparent;\n",
              "      border-right-color: var(--fill-color);\n",
              "    }\n",
              "    80% {\n",
              "      border-color: transparent;\n",
              "      border-right-color: var(--fill-color);\n",
              "      border-bottom-color: var(--fill-color);\n",
              "    }\n",
              "    90% {\n",
              "      border-color: transparent;\n",
              "      border-bottom-color: var(--fill-color);\n",
              "    }\n",
              "  }\n",
              "</style>\n",
              "\n",
              "  <script>\n",
              "    async function quickchart(key) {\n",
              "      const quickchartButtonEl =\n",
              "        document.querySelector('#' + key + ' button');\n",
              "      quickchartButtonEl.disabled = true;  // To prevent multiple clicks.\n",
              "      quickchartButtonEl.classList.add('colab-df-spinner');\n",
              "      try {\n",
              "        const charts = await google.colab.kernel.invokeFunction(\n",
              "            'suggestCharts', [key], {});\n",
              "      } catch (error) {\n",
              "        console.error('Error during call to suggestCharts:', error);\n",
              "      }\n",
              "      quickchartButtonEl.classList.remove('colab-df-spinner');\n",
              "      quickchartButtonEl.classList.add('colab-df-quickchart-complete');\n",
              "    }\n",
              "    (() => {\n",
              "      let quickchartButtonEl =\n",
              "        document.querySelector('#df-bb55eb6e-f59b-419f-8a78-246b82961443 button');\n",
              "      quickchartButtonEl.style.display =\n",
              "        google.colab.kernel.accessAllowed ? 'block' : 'none';\n",
              "    })();\n",
              "  </script>\n",
              "</div>\n",
              "    </div>\n",
              "  </div>\n"
            ]
          },
          "metadata": {},
          "execution_count": 54
        }
      ],
      "source": [
        "# Ahora procedemos a modificar el formato:\n",
        "df_user_reviews_explode['fecha'] = df_user_reviews_explode['fecha'].str.rstrip('.')\n",
        "df_user_reviews_explode['fecha'] = pd.to_datetime(df_user_reviews_explode['fecha'], errors='coerce', format='%B %d, %Y')\n",
        "df_user_reviews_explode = df_user_reviews_explode.dropna(subset=['fecha'])\n",
        "df_user_reviews_final = df_user_reviews_explode.drop(columns=['posted', 'funny'])\n",
        "df_user_reviews_final.head(2)"
      ]
    },
    {
      "cell_type": "code",
      "execution_count": null,
      "metadata": {
        "colab": {
          "background_save": true,
          "base_uri": "https://localhost:8080/",
          "height": 147
        },
        "id": "cuQC-xOiEqmI",
        "outputId": "0102b41f-9437-49f3-ade7-56d7ca19e84b"
      },
      "outputs": [
        {
          "data": {
            "text/html": [
              "\n",
              "  <div id=\"df-7965605d-1b8d-4f87-9a2b-3ddd334762a6\" class=\"colab-df-container\">\n",
              "    <div>\n",
              "<style scoped>\n",
              "    .dataframe tbody tr th:only-of-type {\n",
              "        vertical-align: middle;\n",
              "    }\n",
              "\n",
              "    .dataframe tbody tr th {\n",
              "        vertical-align: top;\n",
              "    }\n",
              "\n",
              "    .dataframe thead th {\n",
              "        text-align: right;\n",
              "    }\n",
              "</style>\n",
              "<table border=\"1\" class=\"dataframe\">\n",
              "  <thead>\n",
              "    <tr style=\"text-align: right;\">\n",
              "      <th></th>\n",
              "      <th>user_id</th>\n",
              "      <th>user_url</th>\n",
              "      <th>last_edited</th>\n",
              "      <th>item_id</th>\n",
              "      <th>helpful</th>\n",
              "      <th>recommend</th>\n",
              "      <th>review</th>\n",
              "      <th>fecha</th>\n",
              "    </tr>\n",
              "  </thead>\n",
              "  <tbody>\n",
              "    <tr>\n",
              "      <th>0</th>\n",
              "      <td>76561197970982479</td>\n",
              "      <td>http://steamcommunity.com/profiles/76561197970...</td>\n",
              "      <td></td>\n",
              "      <td>1250</td>\n",
              "      <td>No ratings yet</td>\n",
              "      <td>True</td>\n",
              "      <td>Simple yet with great replayability. In my opi...</td>\n",
              "      <td>2011-11-05</td>\n",
              "    </tr>\n",
              "    <tr>\n",
              "      <th>1</th>\n",
              "      <td>76561197970982479</td>\n",
              "      <td>http://steamcommunity.com/profiles/76561197970...</td>\n",
              "      <td></td>\n",
              "      <td>22200</td>\n",
              "      <td>No ratings yet</td>\n",
              "      <td>True</td>\n",
              "      <td>It's unique and worth a playthrough.</td>\n",
              "      <td>2011-07-15</td>\n",
              "    </tr>\n",
              "  </tbody>\n",
              "</table>\n",
              "</div>\n",
              "    <div class=\"colab-df-buttons\">\n",
              "\n",
              "  <div class=\"colab-df-container\">\n",
              "    <button class=\"colab-df-convert\" onclick=\"convertToInteractive('df-7965605d-1b8d-4f87-9a2b-3ddd334762a6')\"\n",
              "            title=\"Convert this dataframe to an interactive table.\"\n",
              "            style=\"display:none;\">\n",
              "\n",
              "  <svg xmlns=\"http://www.w3.org/2000/svg\" height=\"24px\" viewBox=\"0 -960 960 960\">\n",
              "    <path d=\"M120-120v-720h720v720H120Zm60-500h600v-160H180v160Zm220 220h160v-160H400v160Zm0 220h160v-160H400v160ZM180-400h160v-160H180v160Zm440 0h160v-160H620v160ZM180-180h160v-160H180v160Zm440 0h160v-160H620v160Z\"/>\n",
              "  </svg>\n",
              "    </button>\n",
              "\n",
              "  <style>\n",
              "    .colab-df-container {\n",
              "      display:flex;\n",
              "      gap: 12px;\n",
              "    }\n",
              "\n",
              "    .colab-df-convert {\n",
              "      background-color: #E8F0FE;\n",
              "      border: none;\n",
              "      border-radius: 50%;\n",
              "      cursor: pointer;\n",
              "      display: none;\n",
              "      fill: #1967D2;\n",
              "      height: 32px;\n",
              "      padding: 0 0 0 0;\n",
              "      width: 32px;\n",
              "    }\n",
              "\n",
              "    .colab-df-convert:hover {\n",
              "      background-color: #E2EBFA;\n",
              "      box-shadow: 0px 1px 2px rgba(60, 64, 67, 0.3), 0px 1px 3px 1px rgba(60, 64, 67, 0.15);\n",
              "      fill: #174EA6;\n",
              "    }\n",
              "\n",
              "    .colab-df-buttons div {\n",
              "      margin-bottom: 4px;\n",
              "    }\n",
              "\n",
              "    [theme=dark] .colab-df-convert {\n",
              "      background-color: #3B4455;\n",
              "      fill: #D2E3FC;\n",
              "    }\n",
              "\n",
              "    [theme=dark] .colab-df-convert:hover {\n",
              "      background-color: #434B5C;\n",
              "      box-shadow: 0px 1px 3px 1px rgba(0, 0, 0, 0.15);\n",
              "      filter: drop-shadow(0px 1px 2px rgba(0, 0, 0, 0.3));\n",
              "      fill: #FFFFFF;\n",
              "    }\n",
              "  </style>\n",
              "\n",
              "    <script>\n",
              "      const buttonEl =\n",
              "        document.querySelector('#df-7965605d-1b8d-4f87-9a2b-3ddd334762a6 button.colab-df-convert');\n",
              "      buttonEl.style.display =\n",
              "        google.colab.kernel.accessAllowed ? 'block' : 'none';\n",
              "\n",
              "      async function convertToInteractive(key) {\n",
              "        const element = document.querySelector('#df-7965605d-1b8d-4f87-9a2b-3ddd334762a6');\n",
              "        const dataTable =\n",
              "          await google.colab.kernel.invokeFunction('convertToInteractive',\n",
              "                                                    [key], {});\n",
              "        if (!dataTable) return;\n",
              "\n",
              "        const docLinkHtml = 'Like what you see? Visit the ' +\n",
              "          '<a target=\"_blank\" href=https://colab.research.google.com/notebooks/data_table.ipynb>data table notebook</a>'\n",
              "          + ' to learn more about interactive tables.';\n",
              "        element.innerHTML = '';\n",
              "        dataTable['output_type'] = 'display_data';\n",
              "        await google.colab.output.renderOutput(dataTable, element);\n",
              "        const docLink = document.createElement('div');\n",
              "        docLink.innerHTML = docLinkHtml;\n",
              "        element.appendChild(docLink);\n",
              "      }\n",
              "    </script>\n",
              "  </div>\n",
              "\n",
              "\n",
              "<div id=\"df-50590e51-ba0f-44a7-9866-7048e356478d\">\n",
              "  <button class=\"colab-df-quickchart\" onclick=\"quickchart('df-50590e51-ba0f-44a7-9866-7048e356478d')\"\n",
              "            title=\"Suggest charts.\"\n",
              "            style=\"display:none;\">\n",
              "\n",
              "<svg xmlns=\"http://www.w3.org/2000/svg\" height=\"24px\"viewBox=\"0 0 24 24\"\n",
              "     width=\"24px\">\n",
              "    <g>\n",
              "        <path d=\"M19 3H5c-1.1 0-2 .9-2 2v14c0 1.1.9 2 2 2h14c1.1 0 2-.9 2-2V5c0-1.1-.9-2-2-2zM9 17H7v-7h2v7zm4 0h-2V7h2v10zm4 0h-2v-4h2v4z\"/>\n",
              "    </g>\n",
              "</svg>\n",
              "  </button>\n",
              "\n",
              "<style>\n",
              "  .colab-df-quickchart {\n",
              "      --bg-color: #E8F0FE;\n",
              "      --fill-color: #1967D2;\n",
              "      --hover-bg-color: #E2EBFA;\n",
              "      --hover-fill-color: #174EA6;\n",
              "      --disabled-fill-color: #AAA;\n",
              "      --disabled-bg-color: #DDD;\n",
              "  }\n",
              "\n",
              "  [theme=dark] .colab-df-quickchart {\n",
              "      --bg-color: #3B4455;\n",
              "      --fill-color: #D2E3FC;\n",
              "      --hover-bg-color: #434B5C;\n",
              "      --hover-fill-color: #FFFFFF;\n",
              "      --disabled-bg-color: #3B4455;\n",
              "      --disabled-fill-color: #666;\n",
              "  }\n",
              "\n",
              "  .colab-df-quickchart {\n",
              "    background-color: var(--bg-color);\n",
              "    border: none;\n",
              "    border-radius: 50%;\n",
              "    cursor: pointer;\n",
              "    display: none;\n",
              "    fill: var(--fill-color);\n",
              "    height: 32px;\n",
              "    padding: 0;\n",
              "    width: 32px;\n",
              "  }\n",
              "\n",
              "  .colab-df-quickchart:hover {\n",
              "    background-color: var(--hover-bg-color);\n",
              "    box-shadow: 0 1px 2px rgba(60, 64, 67, 0.3), 0 1px 3px 1px rgba(60, 64, 67, 0.15);\n",
              "    fill: var(--button-hover-fill-color);\n",
              "  }\n",
              "\n",
              "  .colab-df-quickchart-complete:disabled,\n",
              "  .colab-df-quickchart-complete:disabled:hover {\n",
              "    background-color: var(--disabled-bg-color);\n",
              "    fill: var(--disabled-fill-color);\n",
              "    box-shadow: none;\n",
              "  }\n",
              "\n",
              "  .colab-df-spinner {\n",
              "    border: 2px solid var(--fill-color);\n",
              "    border-color: transparent;\n",
              "    border-bottom-color: var(--fill-color);\n",
              "    animation:\n",
              "      spin 1s steps(1) infinite;\n",
              "  }\n",
              "\n",
              "  @keyframes spin {\n",
              "    0% {\n",
              "      border-color: transparent;\n",
              "      border-bottom-color: var(--fill-color);\n",
              "      border-left-color: var(--fill-color);\n",
              "    }\n",
              "    20% {\n",
              "      border-color: transparent;\n",
              "      border-left-color: var(--fill-color);\n",
              "      border-top-color: var(--fill-color);\n",
              "    }\n",
              "    30% {\n",
              "      border-color: transparent;\n",
              "      border-left-color: var(--fill-color);\n",
              "      border-top-color: var(--fill-color);\n",
              "      border-right-color: var(--fill-color);\n",
              "    }\n",
              "    40% {\n",
              "      border-color: transparent;\n",
              "      border-right-color: var(--fill-color);\n",
              "      border-top-color: var(--fill-color);\n",
              "    }\n",
              "    60% {\n",
              "      border-color: transparent;\n",
              "      border-right-color: var(--fill-color);\n",
              "    }\n",
              "    80% {\n",
              "      border-color: transparent;\n",
              "      border-right-color: var(--fill-color);\n",
              "      border-bottom-color: var(--fill-color);\n",
              "    }\n",
              "    90% {\n",
              "      border-color: transparent;\n",
              "      border-bottom-color: var(--fill-color);\n",
              "    }\n",
              "  }\n",
              "</style>\n",
              "\n",
              "  <script>\n",
              "    async function quickchart(key) {\n",
              "      const quickchartButtonEl =\n",
              "        document.querySelector('#' + key + ' button');\n",
              "      quickchartButtonEl.disabled = true;  // To prevent multiple clicks.\n",
              "      quickchartButtonEl.classList.add('colab-df-spinner');\n",
              "      try {\n",
              "        const charts = await google.colab.kernel.invokeFunction(\n",
              "            'suggestCharts', [key], {});\n",
              "      } catch (error) {\n",
              "        console.error('Error during call to suggestCharts:', error);\n",
              "      }\n",
              "      quickchartButtonEl.classList.remove('colab-df-spinner');\n",
              "      quickchartButtonEl.classList.add('colab-df-quickchart-complete');\n",
              "    }\n",
              "    (() => {\n",
              "      let quickchartButtonEl =\n",
              "        document.querySelector('#df-50590e51-ba0f-44a7-9866-7048e356478d button');\n",
              "      quickchartButtonEl.style.display =\n",
              "        google.colab.kernel.accessAllowed ? 'block' : 'none';\n",
              "    })();\n",
              "  </script>\n",
              "</div>\n",
              "    </div>\n",
              "  </div>\n"
            ],
            "text/plain": [
              "             user_id                                           user_url  \\\n",
              "0  76561197970982479  http://steamcommunity.com/profiles/76561197970...   \n",
              "1  76561197970982479  http://steamcommunity.com/profiles/76561197970...   \n",
              "\n",
              "  last_edited item_id         helpful recommend  \\\n",
              "0                1250  No ratings yet      True   \n",
              "1               22200  No ratings yet      True   \n",
              "\n",
              "                                              review      fecha  \n",
              "0  Simple yet with great replayability. In my opi... 2011-11-05  \n",
              "1               It's unique and worth a playthrough. 2011-07-15  "
            ]
          },
          "execution_count": 14,
          "metadata": {},
          "output_type": "execute_result"
        }
      ],
      "source": [
        "df_user_reviews_final.head(2)\n"
      ]
    },
    {
      "cell_type": "code",
      "execution_count": 55,
      "metadata": {
        "colab": {
          "base_uri": "https://localhost:8080/"
        },
        "id": "4DklTIm2ChEh",
        "outputId": "d6883213-597b-40ab-8a7e-73ed117f9039"
      },
      "outputs": [
        {
          "output_type": "stream",
          "name": "stdout",
          "text": [
            "<class 'pandas.core.frame.DataFrame'>\n",
            "Int64Index: 1928 entries, 0 to 2453\n",
            "Data columns (total 10 columns):\n",
            " #   Column       Non-Null Count  Dtype         \n",
            "---  ------       --------------  -----         \n",
            " 0   user_id      1928 non-null   object        \n",
            " 1   user_url     1928 non-null   object        \n",
            " 2   funny        1928 non-null   object        \n",
            " 3   posted       1928 non-null   object        \n",
            " 4   last_edited  1928 non-null   object        \n",
            " 5   item_id      1928 non-null   object        \n",
            " 6   helpful      1928 non-null   object        \n",
            " 7   recommend    1928 non-null   object        \n",
            " 8   review       1928 non-null   object        \n",
            " 9   fecha        1928 non-null   datetime64[ns]\n",
            "dtypes: datetime64[ns](1), object(9)\n",
            "memory usage: 165.7+ KB\n"
          ]
        }
      ],
      "source": [
        "# Visualizamos la info general:\n",
        "df_user_reviews_explode.info()"
      ]
    },
    {
      "cell_type": "code",
      "execution_count": 56,
      "metadata": {
        "id": "sq6Jcw7QFpZc"
      },
      "outputs": [],
      "source": [
        "# Finalmente convertimos a csv\n",
        "df_user_reviews_final.to_csv(\"df_user_reviews_final.csv\")"
      ]
    },
    {
      "cell_type": "code",
      "execution_count": 57,
      "metadata": {
        "colab": {
          "base_uri": "https://localhost:8080/",
          "height": 17
        },
        "id": "qZzN90xAkk2T",
        "outputId": "6440483d-8eb6-459d-c523-e335b1fd0358"
      },
      "outputs": [
        {
          "output_type": "display_data",
          "data": {
            "text/plain": [
              "<IPython.core.display.Javascript object>"
            ],
            "application/javascript": [
              "\n",
              "    async function download(id, filename, size) {\n",
              "      if (!google.colab.kernel.accessAllowed) {\n",
              "        return;\n",
              "      }\n",
              "      const div = document.createElement('div');\n",
              "      const label = document.createElement('label');\n",
              "      label.textContent = `Downloading \"${filename}\": `;\n",
              "      div.appendChild(label);\n",
              "      const progress = document.createElement('progress');\n",
              "      progress.max = size;\n",
              "      div.appendChild(progress);\n",
              "      document.body.appendChild(div);\n",
              "\n",
              "      const buffers = [];\n",
              "      let downloaded = 0;\n",
              "\n",
              "      const channel = await google.colab.kernel.comms.open(id);\n",
              "      // Send a message to notify the kernel that we're ready.\n",
              "      channel.send({})\n",
              "\n",
              "      for await (const message of channel.messages) {\n",
              "        // Send a message to notify the kernel that we're ready.\n",
              "        channel.send({})\n",
              "        if (message.buffers) {\n",
              "          for (const buffer of message.buffers) {\n",
              "            buffers.push(buffer);\n",
              "            downloaded += buffer.byteLength;\n",
              "            progress.value = downloaded;\n",
              "          }\n",
              "        }\n",
              "      }\n",
              "      const blob = new Blob(buffers, {type: 'application/binary'});\n",
              "      const a = document.createElement('a');\n",
              "      a.href = window.URL.createObjectURL(blob);\n",
              "      a.download = filename;\n",
              "      div.appendChild(a);\n",
              "      a.click();\n",
              "      div.remove();\n",
              "    }\n",
              "  "
            ]
          },
          "metadata": {}
        },
        {
          "output_type": "display_data",
          "data": {
            "text/plain": [
              "<IPython.core.display.Javascript object>"
            ],
            "application/javascript": [
              "download(\"download_4f22c105-9de0-40d6-9a37-e87d5be55004\", \"df_user_reviews_final.csv\", 671506)"
            ]
          },
          "metadata": {}
        }
      ],
      "source": [
        "# Importar la librería de archivos\n",
        "from google.colab import files\n",
        "\n",
        "# Descargar el archivo CSV\n",
        "files.download('df_user_reviews_final.csv')\n"
      ]
    },
    {
      "cell_type": "markdown",
      "metadata": {
        "id": "ZIp1GQ-iF3Nl"
      },
      "source": [
        "**USER_ITEMS**"
      ]
    },
    {
      "cell_type": "code",
      "execution_count": 41,
      "metadata": {
        "id": "2YcXi0QeF85z"
      },
      "outputs": [],
      "source": [
        "# Abrimos el archivo\n",
        "def open_comp(archivo):\n",
        "    data_list = []\n",
        "    i = 0\n",
        "    with gzip.open(archivo, 'rb') as file:\n",
        "        for line in file:\n",
        "            decode_line = line.decode('utf-8')\n",
        "            data_list.append(ast.literal_eval(decode_line.strip()))\n",
        "            i = i + 1\n",
        "            if (i==1000):\n",
        "              break\n",
        "        return data_list"
      ]
    },
    {
      "cell_type": "code",
      "execution_count": 42,
      "metadata": {
        "id": "kmoBVn8fGPXu"
      },
      "outputs": [],
      "source": [
        "archivo = 'users_items.json.gz'\n",
        "data = open_comp(archivo)\n",
        "df_user_items = pd.DataFrame(data)"
      ]
    },
    {
      "cell_type": "code",
      "execution_count": null,
      "metadata": {
        "colab": {
          "background_save": true
        },
        "id": "8MXI8SEvGgNT"
      },
      "outputs": [],
      "source": [
        "# Visualizamos el archivo:\n",
        "display(df_user_items)"
      ]
    },
    {
      "cell_type": "code",
      "execution_count": 43,
      "metadata": {
        "colab": {
          "base_uri": "https://localhost:8080/",
          "height": 129
        },
        "id": "8URseo45HUit",
        "outputId": "abc35540-c8bf-45b2-c455-e7ec613a4926"
      },
      "outputs": [
        {
          "output_type": "execute_result",
          "data": {
            "text/plain": [
              "             user_id  items_count           steam_id  \\\n",
              "0  76561197970982479          277  76561197970982479   \n",
              "1  76561197970982479          277  76561197970982479   \n",
              "\n",
              "                                            user_url item_id  \\\n",
              "0  http://steamcommunity.com/profiles/76561197970...      10   \n",
              "1  http://steamcommunity.com/profiles/76561197970...      20   \n",
              "\n",
              "               item_name  playtime_forever  playtime_2weeks  \n",
              "0         Counter-Strike               6.0              0.0  \n",
              "1  Team Fortress Classic               0.0              0.0  "
            ],
            "text/html": [
              "\n",
              "  <div id=\"df-0c3b466c-d732-48f3-823d-9bf0f39882a7\" class=\"colab-df-container\">\n",
              "    <div>\n",
              "<style scoped>\n",
              "    .dataframe tbody tr th:only-of-type {\n",
              "        vertical-align: middle;\n",
              "    }\n",
              "\n",
              "    .dataframe tbody tr th {\n",
              "        vertical-align: top;\n",
              "    }\n",
              "\n",
              "    .dataframe thead th {\n",
              "        text-align: right;\n",
              "    }\n",
              "</style>\n",
              "<table border=\"1\" class=\"dataframe\">\n",
              "  <thead>\n",
              "    <tr style=\"text-align: right;\">\n",
              "      <th></th>\n",
              "      <th>user_id</th>\n",
              "      <th>items_count</th>\n",
              "      <th>steam_id</th>\n",
              "      <th>user_url</th>\n",
              "      <th>item_id</th>\n",
              "      <th>item_name</th>\n",
              "      <th>playtime_forever</th>\n",
              "      <th>playtime_2weeks</th>\n",
              "    </tr>\n",
              "  </thead>\n",
              "  <tbody>\n",
              "    <tr>\n",
              "      <th>0</th>\n",
              "      <td>76561197970982479</td>\n",
              "      <td>277</td>\n",
              "      <td>76561197970982479</td>\n",
              "      <td>http://steamcommunity.com/profiles/76561197970...</td>\n",
              "      <td>10</td>\n",
              "      <td>Counter-Strike</td>\n",
              "      <td>6.0</td>\n",
              "      <td>0.0</td>\n",
              "    </tr>\n",
              "    <tr>\n",
              "      <th>1</th>\n",
              "      <td>76561197970982479</td>\n",
              "      <td>277</td>\n",
              "      <td>76561197970982479</td>\n",
              "      <td>http://steamcommunity.com/profiles/76561197970...</td>\n",
              "      <td>20</td>\n",
              "      <td>Team Fortress Classic</td>\n",
              "      <td>0.0</td>\n",
              "      <td>0.0</td>\n",
              "    </tr>\n",
              "  </tbody>\n",
              "</table>\n",
              "</div>\n",
              "    <div class=\"colab-df-buttons\">\n",
              "\n",
              "  <div class=\"colab-df-container\">\n",
              "    <button class=\"colab-df-convert\" onclick=\"convertToInteractive('df-0c3b466c-d732-48f3-823d-9bf0f39882a7')\"\n",
              "            title=\"Convert this dataframe to an interactive table.\"\n",
              "            style=\"display:none;\">\n",
              "\n",
              "  <svg xmlns=\"http://www.w3.org/2000/svg\" height=\"24px\" viewBox=\"0 -960 960 960\">\n",
              "    <path d=\"M120-120v-720h720v720H120Zm60-500h600v-160H180v160Zm220 220h160v-160H400v160Zm0 220h160v-160H400v160ZM180-400h160v-160H180v160Zm440 0h160v-160H620v160ZM180-180h160v-160H180v160Zm440 0h160v-160H620v160Z\"/>\n",
              "  </svg>\n",
              "    </button>\n",
              "\n",
              "  <style>\n",
              "    .colab-df-container {\n",
              "      display:flex;\n",
              "      gap: 12px;\n",
              "    }\n",
              "\n",
              "    .colab-df-convert {\n",
              "      background-color: #E8F0FE;\n",
              "      border: none;\n",
              "      border-radius: 50%;\n",
              "      cursor: pointer;\n",
              "      display: none;\n",
              "      fill: #1967D2;\n",
              "      height: 32px;\n",
              "      padding: 0 0 0 0;\n",
              "      width: 32px;\n",
              "    }\n",
              "\n",
              "    .colab-df-convert:hover {\n",
              "      background-color: #E2EBFA;\n",
              "      box-shadow: 0px 1px 2px rgba(60, 64, 67, 0.3), 0px 1px 3px 1px rgba(60, 64, 67, 0.15);\n",
              "      fill: #174EA6;\n",
              "    }\n",
              "\n",
              "    .colab-df-buttons div {\n",
              "      margin-bottom: 4px;\n",
              "    }\n",
              "\n",
              "    [theme=dark] .colab-df-convert {\n",
              "      background-color: #3B4455;\n",
              "      fill: #D2E3FC;\n",
              "    }\n",
              "\n",
              "    [theme=dark] .colab-df-convert:hover {\n",
              "      background-color: #434B5C;\n",
              "      box-shadow: 0px 1px 3px 1px rgba(0, 0, 0, 0.15);\n",
              "      filter: drop-shadow(0px 1px 2px rgba(0, 0, 0, 0.3));\n",
              "      fill: #FFFFFF;\n",
              "    }\n",
              "  </style>\n",
              "\n",
              "    <script>\n",
              "      const buttonEl =\n",
              "        document.querySelector('#df-0c3b466c-d732-48f3-823d-9bf0f39882a7 button.colab-df-convert');\n",
              "      buttonEl.style.display =\n",
              "        google.colab.kernel.accessAllowed ? 'block' : 'none';\n",
              "\n",
              "      async function convertToInteractive(key) {\n",
              "        const element = document.querySelector('#df-0c3b466c-d732-48f3-823d-9bf0f39882a7');\n",
              "        const dataTable =\n",
              "          await google.colab.kernel.invokeFunction('convertToInteractive',\n",
              "                                                    [key], {});\n",
              "        if (!dataTable) return;\n",
              "\n",
              "        const docLinkHtml = 'Like what you see? Visit the ' +\n",
              "          '<a target=\"_blank\" href=https://colab.research.google.com/notebooks/data_table.ipynb>data table notebook</a>'\n",
              "          + ' to learn more about interactive tables.';\n",
              "        element.innerHTML = '';\n",
              "        dataTable['output_type'] = 'display_data';\n",
              "        await google.colab.output.renderOutput(dataTable, element);\n",
              "        const docLink = document.createElement('div');\n",
              "        docLink.innerHTML = docLinkHtml;\n",
              "        element.appendChild(docLink);\n",
              "      }\n",
              "    </script>\n",
              "  </div>\n",
              "\n",
              "\n",
              "<div id=\"df-aeefe592-99e8-4ee2-a61b-ab4dcfdb79c1\">\n",
              "  <button class=\"colab-df-quickchart\" onclick=\"quickchart('df-aeefe592-99e8-4ee2-a61b-ab4dcfdb79c1')\"\n",
              "            title=\"Suggest charts.\"\n",
              "            style=\"display:none;\">\n",
              "\n",
              "<svg xmlns=\"http://www.w3.org/2000/svg\" height=\"24px\"viewBox=\"0 0 24 24\"\n",
              "     width=\"24px\">\n",
              "    <g>\n",
              "        <path d=\"M19 3H5c-1.1 0-2 .9-2 2v14c0 1.1.9 2 2 2h14c1.1 0 2-.9 2-2V5c0-1.1-.9-2-2-2zM9 17H7v-7h2v7zm4 0h-2V7h2v10zm4 0h-2v-4h2v4z\"/>\n",
              "    </g>\n",
              "</svg>\n",
              "  </button>\n",
              "\n",
              "<style>\n",
              "  .colab-df-quickchart {\n",
              "      --bg-color: #E8F0FE;\n",
              "      --fill-color: #1967D2;\n",
              "      --hover-bg-color: #E2EBFA;\n",
              "      --hover-fill-color: #174EA6;\n",
              "      --disabled-fill-color: #AAA;\n",
              "      --disabled-bg-color: #DDD;\n",
              "  }\n",
              "\n",
              "  [theme=dark] .colab-df-quickchart {\n",
              "      --bg-color: #3B4455;\n",
              "      --fill-color: #D2E3FC;\n",
              "      --hover-bg-color: #434B5C;\n",
              "      --hover-fill-color: #FFFFFF;\n",
              "      --disabled-bg-color: #3B4455;\n",
              "      --disabled-fill-color: #666;\n",
              "  }\n",
              "\n",
              "  .colab-df-quickchart {\n",
              "    background-color: var(--bg-color);\n",
              "    border: none;\n",
              "    border-radius: 50%;\n",
              "    cursor: pointer;\n",
              "    display: none;\n",
              "    fill: var(--fill-color);\n",
              "    height: 32px;\n",
              "    padding: 0;\n",
              "    width: 32px;\n",
              "  }\n",
              "\n",
              "  .colab-df-quickchart:hover {\n",
              "    background-color: var(--hover-bg-color);\n",
              "    box-shadow: 0 1px 2px rgba(60, 64, 67, 0.3), 0 1px 3px 1px rgba(60, 64, 67, 0.15);\n",
              "    fill: var(--button-hover-fill-color);\n",
              "  }\n",
              "\n",
              "  .colab-df-quickchart-complete:disabled,\n",
              "  .colab-df-quickchart-complete:disabled:hover {\n",
              "    background-color: var(--disabled-bg-color);\n",
              "    fill: var(--disabled-fill-color);\n",
              "    box-shadow: none;\n",
              "  }\n",
              "\n",
              "  .colab-df-spinner {\n",
              "    border: 2px solid var(--fill-color);\n",
              "    border-color: transparent;\n",
              "    border-bottom-color: var(--fill-color);\n",
              "    animation:\n",
              "      spin 1s steps(1) infinite;\n",
              "  }\n",
              "\n",
              "  @keyframes spin {\n",
              "    0% {\n",
              "      border-color: transparent;\n",
              "      border-bottom-color: var(--fill-color);\n",
              "      border-left-color: var(--fill-color);\n",
              "    }\n",
              "    20% {\n",
              "      border-color: transparent;\n",
              "      border-left-color: var(--fill-color);\n",
              "      border-top-color: var(--fill-color);\n",
              "    }\n",
              "    30% {\n",
              "      border-color: transparent;\n",
              "      border-left-color: var(--fill-color);\n",
              "      border-top-color: var(--fill-color);\n",
              "      border-right-color: var(--fill-color);\n",
              "    }\n",
              "    40% {\n",
              "      border-color: transparent;\n",
              "      border-right-color: var(--fill-color);\n",
              "      border-top-color: var(--fill-color);\n",
              "    }\n",
              "    60% {\n",
              "      border-color: transparent;\n",
              "      border-right-color: var(--fill-color);\n",
              "    }\n",
              "    80% {\n",
              "      border-color: transparent;\n",
              "      border-right-color: var(--fill-color);\n",
              "      border-bottom-color: var(--fill-color);\n",
              "    }\n",
              "    90% {\n",
              "      border-color: transparent;\n",
              "      border-bottom-color: var(--fill-color);\n",
              "    }\n",
              "  }\n",
              "</style>\n",
              "\n",
              "  <script>\n",
              "    async function quickchart(key) {\n",
              "      const quickchartButtonEl =\n",
              "        document.querySelector('#' + key + ' button');\n",
              "      quickchartButtonEl.disabled = true;  // To prevent multiple clicks.\n",
              "      quickchartButtonEl.classList.add('colab-df-spinner');\n",
              "      try {\n",
              "        const charts = await google.colab.kernel.invokeFunction(\n",
              "            'suggestCharts', [key], {});\n",
              "      } catch (error) {\n",
              "        console.error('Error during call to suggestCharts:', error);\n",
              "      }\n",
              "      quickchartButtonEl.classList.remove('colab-df-spinner');\n",
              "      quickchartButtonEl.classList.add('colab-df-quickchart-complete');\n",
              "    }\n",
              "    (() => {\n",
              "      let quickchartButtonEl =\n",
              "        document.querySelector('#df-aeefe592-99e8-4ee2-a61b-ab4dcfdb79c1 button');\n",
              "      quickchartButtonEl.style.display =\n",
              "        google.colab.kernel.accessAllowed ? 'block' : 'none';\n",
              "    })();\n",
              "  </script>\n",
              "</div>\n",
              "    </div>\n",
              "  </div>\n"
            ]
          },
          "metadata": {},
          "execution_count": 43
        }
      ],
      "source": [
        "# Observamos datos anidados en la columna \"items\" también, por lo que se procede a desanidar la columna con el método explode:#Descompone la lista en filas separadas\n",
        "df_user_items_explode = df_user_items.explode('items')\n",
        "df_user_items_explode.reset_index(drop=True, inplace=True)\n",
        "# Creamos las nuevas columnas y concatenamos\n",
        "df_user_items_explode = pd.concat([df_user_items_explode, pd.json_normalize(df_user_items_explode['items'])], axis=1)\n",
        "# Se elimina el original y se reemplaza\n",
        "df_user_items_explode.drop(columns=['items'], inplace=True)\n",
        "\n",
        "df_user_items_explode.head(2)"
      ]
    },
    {
      "cell_type": "code",
      "execution_count": 44,
      "metadata": {
        "colab": {
          "base_uri": "https://localhost:8080/"
        },
        "id": "zS-aX4KhHKQH",
        "outputId": "9cfc124d-0507-41be-d7d8-2ac4848baf5a"
      },
      "outputs": [
        {
          "output_type": "stream",
          "name": "stdout",
          "text": [
            "<class 'pandas.core.frame.DataFrame'>\n",
            "RangeIndex: 89415 entries, 0 to 89414\n",
            "Data columns (total 8 columns):\n",
            " #   Column            Non-Null Count  Dtype  \n",
            "---  ------            --------------  -----  \n",
            " 0   user_id           89415 non-null  object \n",
            " 1   items_count       89415 non-null  int64  \n",
            " 2   steam_id          89415 non-null  object \n",
            " 3   user_url          89415 non-null  object \n",
            " 4   item_id           89280 non-null  object \n",
            " 5   item_name         89280 non-null  object \n",
            " 6   playtime_forever  89280 non-null  float64\n",
            " 7   playtime_2weeks   89280 non-null  float64\n",
            "dtypes: float64(2), int64(1), object(5)\n",
            "memory usage: 5.5+ MB\n"
          ]
        }
      ],
      "source": [
        "# Veamos la información del archivo para visualzar el formato de los datos:\n",
        "df_user_items_explode.info()"
      ]
    },
    {
      "cell_type": "code",
      "execution_count": null,
      "metadata": {
        "colab": {
          "background_save": true
        },
        "id": "0AmxL2GfIEce"
      },
      "outputs": [],
      "source": [
        "# Buscamos valores nulos:\n",
        "df_user_items_explode.isnull().sum()"
      ]
    },
    {
      "cell_type": "code",
      "execution_count": 45,
      "metadata": {
        "id": "qVw1PvHWIQGL"
      },
      "outputs": [],
      "source": [
        "# Eliminamos valores nulos:\n",
        "df_user_items_final = df_user_items_explode.dropna(subset=['item_id','playtime_forever'])"
      ]
    },
    {
      "cell_type": "code",
      "execution_count": 46,
      "metadata": {
        "colab": {
          "base_uri": "https://localhost:8080/"
        },
        "id": "6Ge-GBH2RtAv",
        "outputId": "a91f541c-47d5-4e6a-c1da-8832b628d8e7"
      },
      "outputs": [
        {
          "output_type": "stream",
          "name": "stdout",
          "text": [
            "<class 'pandas.core.frame.DataFrame'>\n",
            "Int64Index: 89280 entries, 0 to 89414\n",
            "Data columns (total 8 columns):\n",
            " #   Column            Non-Null Count  Dtype  \n",
            "---  ------            --------------  -----  \n",
            " 0   user_id           89280 non-null  object \n",
            " 1   items_count       89280 non-null  int64  \n",
            " 2   steam_id          89280 non-null  object \n",
            " 3   user_url          89280 non-null  object \n",
            " 4   item_id           89280 non-null  object \n",
            " 5   item_name         89280 non-null  object \n",
            " 6   playtime_forever  89280 non-null  float64\n",
            " 7   playtime_2weeks   89280 non-null  float64\n",
            "dtypes: float64(2), int64(1), object(5)\n",
            "memory usage: 6.1+ MB\n"
          ]
        }
      ],
      "source": [
        "df_user_items_final.info()"
      ]
    },
    {
      "cell_type": "code",
      "execution_count": 47,
      "metadata": {
        "id": "mTREJpU_Ib7S"
      },
      "outputs": [],
      "source": [
        "# Convertimos el archivo a csv\n",
        "df_user_items_final.to_csv('df_user_items_final.csv')"
      ]
    },
    {
      "cell_type": "code",
      "source": [
        "# Importar la librería de archivos\n",
        "from google.colab import files\n",
        "\n",
        "# Descargar el archivo CSV\n",
        "files.download('df_user_items_final.csv')\n"
      ],
      "metadata": {
        "colab": {
          "base_uri": "https://localhost:8080/",
          "height": 17
        },
        "id": "1cZWDhpvHtvv",
        "outputId": "a1df14c8-0b5a-4b86-9356-d70e395c5a1b"
      },
      "execution_count": 48,
      "outputs": [
        {
          "output_type": "display_data",
          "data": {
            "text/plain": [
              "<IPython.core.display.Javascript object>"
            ],
            "application/javascript": [
              "\n",
              "    async function download(id, filename, size) {\n",
              "      if (!google.colab.kernel.accessAllowed) {\n",
              "        return;\n",
              "      }\n",
              "      const div = document.createElement('div');\n",
              "      const label = document.createElement('label');\n",
              "      label.textContent = `Downloading \"${filename}\": `;\n",
              "      div.appendChild(label);\n",
              "      const progress = document.createElement('progress');\n",
              "      progress.max = size;\n",
              "      div.appendChild(progress);\n",
              "      document.body.appendChild(div);\n",
              "\n",
              "      const buffers = [];\n",
              "      let downloaded = 0;\n",
              "\n",
              "      const channel = await google.colab.kernel.comms.open(id);\n",
              "      // Send a message to notify the kernel that we're ready.\n",
              "      channel.send({})\n",
              "\n",
              "      for await (const message of channel.messages) {\n",
              "        // Send a message to notify the kernel that we're ready.\n",
              "        channel.send({})\n",
              "        if (message.buffers) {\n",
              "          for (const buffer of message.buffers) {\n",
              "            buffers.push(buffer);\n",
              "            downloaded += buffer.byteLength;\n",
              "            progress.value = downloaded;\n",
              "          }\n",
              "        }\n",
              "      }\n",
              "      const blob = new Blob(buffers, {type: 'application/binary'});\n",
              "      const a = document.createElement('a');\n",
              "      a.href = window.URL.createObjectURL(blob);\n",
              "      a.download = filename;\n",
              "      div.appendChild(a);\n",
              "      a.click();\n",
              "      div.remove();\n",
              "    }\n",
              "  "
            ]
          },
          "metadata": {}
        },
        {
          "output_type": "display_data",
          "data": {
            "text/plain": [
              "<IPython.core.display.Javascript object>"
            ],
            "application/javascript": [
              "download(\"download_a4fcaa1d-b885-4153-a1e0-5965997b7f61\", \"df_user_items_final.csv\", 10961126)"
            ]
          },
          "metadata": {}
        }
      ]
    },
    {
      "cell_type": "markdown",
      "metadata": {
        "id": "fNpA-MuqIvt6"
      },
      "source": [
        "**STEAM_GAMES**"
      ]
    },
    {
      "cell_type": "code",
      "execution_count": null,
      "metadata": {
        "colab": {
          "background_save": true
        },
        "id": "XirtHZWAIx-H"
      },
      "outputs": [],
      "source": [
        "def abrir_comprimido(archivo):\n",
        "    data_list = []\n",
        "    with gzip.open(archivo, 'rt', encoding='utf-8') as file:\n",
        "        for line in file:\n",
        "            try:\n",
        "                data = json.loads(line.strip())\n",
        "                data_list.append(data)\n",
        "            except json.JSONDecodeError as e:\n",
        "                print(f\"Error en línea: {line.strip()}\")\n",
        "                print(e)\n",
        "    return data_list"
      ]
    },
    {
      "cell_type": "code",
      "execution_count": null,
      "metadata": {
        "colab": {
          "background_save": true
        },
        "id": "gP2BtftnN7YB"
      },
      "outputs": [],
      "source": [
        "# Creamos un DataFrame para steam_games y luego vemos la información\n",
        "archivo = 'steam_games.json.gz'\n",
        "data = abrir_comprimido(archivo)\n",
        "df_steam_games = pd.DataFrame(data)"
      ]
    },
    {
      "cell_type": "code",
      "execution_count": null,
      "metadata": {
        "colab": {
          "background_save": true
        },
        "id": "POcVx-JUOC2Y"
      },
      "outputs": [],
      "source": [
        "# Con la función display mostramos el marco de datos del archivo\n",
        "# A simple vista se logra visualizar datos nulos.\n",
        "display(df_steam_games)"
      ]
    },
    {
      "cell_type": "code",
      "execution_count": null,
      "metadata": {
        "colab": {
          "background_save": true
        },
        "id": "6st09ntJOHvt"
      },
      "outputs": [],
      "source": [
        "# Utilizamos el método isnull() para ver si el df tiene valores nulos y los sumamos con sum(), el cuál se observan\n",
        "# acontinuación en cada categoría:\n",
        "\n",
        "df_steam_games.isnull().sum()"
      ]
    },
    {
      "cell_type": "code",
      "execution_count": null,
      "metadata": {
        "colab": {
          "background_save": true
        },
        "id": "SUNY26njOTae"
      },
      "outputs": [],
      "source": [
        "# Comenzamos eliminando columnas:\n",
        "drop_columns = ['user_id', 'steam_id', 'items', 'items_count']\n",
        "df_steam_games.drop(drop_columns, axis=1, inplace=True)\n",
        "df_steam_games.head(2)"
      ]
    },
    {
      "cell_type": "code",
      "execution_count": null,
      "metadata": {
        "colab": {
          "background_save": true
        },
        "id": "udgs8rdROemG"
      },
      "outputs": [],
      "source": [
        "# Ahora eliminamos filas con valores nulos en sus columnas:\n",
        "df_steam_games.dropna(how='all', inplace=True)"
      ]
    },
    {
      "cell_type": "code",
      "execution_count": null,
      "metadata": {
        "colab": {
          "background_save": true
        },
        "id": "72IDm1MZOqF5"
      },
      "outputs": [],
      "source": [
        "# Luego verificamos filas con columnas de valores duplicados:\n",
        "df_steam_games['id'].unique().size"
      ]
    },
    {
      "cell_type": "code",
      "execution_count": null,
      "metadata": {
        "colab": {
          "background_save": true
        },
        "id": "1lDRn9XRPAqV"
      },
      "outputs": [],
      "source": [
        "# Contamos el número de veces que aparece cada valor en la columna 'id'\n",
        "conteo_ids = df_steam_games['id'].value_counts()\n",
        "\n",
        "# Obtenemos los identificadores de los juegos que se repiten\n",
        "ids_repitentes = conteo_ids[conteo_ids > 1].index.tolist()\n",
        "\n",
        "# Imprimimos los identificadores de los juegos que se repiten y el número de veces que se repiten\n",
        "print('Los siguientes identificadores de juegos se repiten:')\n",
        "for id in ids_repitentes:\n",
        "    print(f'- {id} ({conteo_ids[id]} repeticiones)')"
      ]
    },
    {
      "cell_type": "code",
      "execution_count": null,
      "metadata": {
        "colab": {
          "background_save": true
        },
        "id": "l845zEeUPI9g"
      },
      "outputs": [],
      "source": [
        "# Veamos la duplicación para el número de id repetido:\n",
        "df_steam_games[df_steam_games['id']=='612880']"
      ]
    },
    {
      "cell_type": "code",
      "execution_count": null,
      "metadata": {
        "colab": {
          "background_save": true
        },
        "id": "Elq899G-PTHI"
      },
      "outputs": [],
      "source": [
        "# Eliminamos el índice:\n",
        "indice_eliminado = df_steam_games[df_steam_games['id'] == '612880'].index[1]\n",
        "\n",
        "# Eliminamos la fila\n",
        "df_steam_games.drop(indice_eliminado, inplace=True)"
      ]
    },
    {
      "cell_type": "code",
      "execution_count": null,
      "metadata": {
        "colab": {
          "background_save": true
        },
        "id": "12vWvYuVPz2X"
      },
      "outputs": [],
      "source": [
        "# Verificamos duplicados en otra columna:\n",
        "df_steam_games['title'].duplicated().sum()"
      ]
    },
    {
      "cell_type": "code",
      "execution_count": null,
      "metadata": {
        "colab": {
          "background_save": true
        },
        "id": "HKAX8dnKTXjC"
      },
      "outputs": [],
      "source": [
        "# Agregamos la columna \"precio\" tal como se necesita:\n",
        "df_steam_games.dropna(subset=['price'], inplace=True)\n",
        "unique_values = df_steam_games['price'].unique()\n",
        "unique_strings = [value for value in unique_values if isinstance(value, str)]\n",
        "\n",
        "display(unique_strings)"
      ]
    },
    {
      "cell_type": "code",
      "execution_count": null,
      "metadata": {
        "colab": {
          "background_save": true
        },
        "id": "ywsHdQ0dT0nQ"
      },
      "outputs": [],
      "source": [
        "# Creamos una función para colocar el formato de la columna \"precio\" y colocar valor 0 donde haya un str\n",
        "def precio_convert(valor):\n",
        "    try:\n",
        "        return float(valor)\n",
        "    except ValueError:\n",
        "        return 0.0\n",
        "\n",
        "df_steam_games['price2'] = df_steam_games['price'].apply(precio_convert)"
      ]
    },
    {
      "cell_type": "code",
      "execution_count": null,
      "metadata": {
        "colab": {
          "background_save": true
        },
        "id": "DxHi34j7UlnK"
      },
      "outputs": [],
      "source": [
        "# Agregamos el año a la columna \"release_date\"\n",
        "df_steam_games['releasedate2'] = df_steam_games['release_date'].apply(pd.to_datetime, errors='coerce')\n",
        "df_steam_games.dropna(subset=['releasedate2'], inplace=True)\n",
        "df_steam_games['Año'] = df_steam_games['releasedate2'].dt.year"
      ]
    },
    {
      "cell_type": "code",
      "execution_count": null,
      "metadata": {
        "colab": {
          "background_save": true
        },
        "id": "wt8Yg9_mURb6"
      },
      "outputs": [],
      "source": [
        "# Se siguen observando datos nulos, procedemos a eliminar de las columnas:\n",
        "df_steam_games.dropna(subset=['developer'], inplace=True)"
      ]
    },
    {
      "cell_type": "code",
      "execution_count": null,
      "metadata": {
        "colab": {
          "background_save": true
        },
        "id": "jybjv4cQUbPz"
      },
      "outputs": [],
      "source": [
        "# Eliminar nulos y cambiar de tipo de formato a la columma\n",
        "df_steam_games.dropna(subset=['genres'], inplace=True)\n",
        "df_steam_games['genres'] = df_steam_games['genres'].astype('str')"
      ]
    },
    {
      "cell_type": "code",
      "execution_count": null,
      "metadata": {
        "colab": {
          "background_save": true
        },
        "id": "OU9fNGmeUwBQ"
      },
      "outputs": [],
      "source": [
        "# Luego optimizamos más y eliminamos columnas que no nos sirven:\n",
        "df_steam_games.drop(columns=['tags', 'reviews_url', 'discount_price', 'early_access', 'metascore', 'price', 'release_date'], inplace=True)\n",
        "df_steam_games.head(3)"
      ]
    },
    {
      "cell_type": "code",
      "execution_count": null,
      "metadata": {
        "colab": {
          "background_save": true
        },
        "id": "EOC5vzOOU4-p"
      },
      "outputs": [],
      "source": [
        "# Finalmente convertimos el archivo a csv\n",
        "df_steam_games.to_csv('df_steam_games_final.csv')"
      ]
    },
    {
      "cell_type": "markdown",
      "metadata": {
        "id": "AhYVSI3HVBuS"
      },
      "source": [
        "***1° FUNCIÓN: DEF USER_DATA***"
      ]
    },
    {
      "cell_type": "code",
      "execution_count": null,
      "metadata": {
        "colab": {
          "background_save": true
        },
        "id": "FOhhZEdaVJVj"
      },
      "outputs": [],
      "source": [
        "def userdata(user_id):\n",
        "    df_user_items_id = df_user_items_final[df_user_items_final['user_id']==user_id]['item_id']\n",
        "    respuesta = ''\n",
        "\n",
        "    items = df_user_items_id.values\n",
        "    precios =  []\n",
        "    for i in items:\n",
        "        precio = df_steam_games[df_steam_games['id']== i]['price2']\n",
        "        if not precio.empty:\n",
        "            precios.append(precio.values[0])\n",
        "\n",
        "    df_user_reviews_id = df_user_reviews_final[df_user_reviews_final['user_id']==user_id]['recommend']\n",
        "\n",
        "    j = 0\n",
        "    for i in df_user_reviews_id.values:\n",
        "        if(i == True):\n",
        "            j = j + 1\n",
        "\n",
        "    recomendacion = j/len(df_user_reviews_id.values)*100\n",
        "\n",
        "    suma = 0\n",
        "\n",
        "    for precio in precios:\n",
        "        suma += precio\n",
        "\n",
        "    item_count = df_user_items_final[df_user_items_final['user_id']=='js41637']['items_count'].iloc[0]\n",
        "\n",
        "    respuesta = {'recomendación:': recomendacion,\n",
        "                'Cantidad de dinero:' : suma,\n",
        "                'Cantidad de items': item_count}\n",
        "\n",
        "    return respuesta"
      ]
    },
    {
      "cell_type": "code",
      "execution_count": null,
      "metadata": {
        "colab": {
          "background_save": true
        },
        "id": "MAcDIzJvVX-G"
      },
      "outputs": [],
      "source": [
        "userdata('js41637')"
      ]
    },
    {
      "cell_type": "markdown",
      "metadata": {
        "id": "9_tAaSj1Vhtk"
      },
      "source": [
        "***2° FUNCIÓN: DEF_COUNTREVIEWS***"
      ]
    },
    {
      "cell_type": "code",
      "execution_count": null,
      "metadata": {
        "colab": {
          "background_save": true
        },
        "id": "VRorp_obVpfJ"
      },
      "outputs": [],
      "source": [
        "def count_reviews(fecha1, fecha2):\n",
        "    df_user_fechas=df_user_reviews_final[['user_id']][df_user_reviews_final['fecha']\n",
        "                                                  .between(fecha1, fecha2)].value_counts()\n",
        "\n",
        "    primeros_valores = df_user_fechas.index.get_level_values('user_id').tolist()\n",
        "\n",
        "    recomendaciones = []\n",
        "    for i in primeros_valores:\n",
        "        recomendacion = (userdata(i)[list(userdata(i).keys())[0]])\n",
        "        recomendaciones.append(recomendacion)\n",
        "\n",
        "    respuesta = {'usuario': primeros_valores, 'recomendación':recomendaciones}\n",
        "\n",
        "    df = pd.DataFrame(respuesta)\n",
        "\n",
        "    respuesta = df.to_dict(orient='records')\n",
        "\n",
        "    return respuesta"
      ]
    },
    {
      "cell_type": "code",
      "execution_count": null,
      "metadata": {
        "colab": {
          "background_save": true
        },
        "id": "odjSr0fsVzs3"
      },
      "outputs": [],
      "source": [
        "# Ejecutamos:\n",
        "count_reviews('2011-01-01','2012-01-01')"
      ]
    },
    {
      "cell_type": "markdown",
      "metadata": {
        "id": "B-yCnJTMWdbw"
      },
      "source": [
        "***3° FUNCIÓN: DEF_GENRE***"
      ]
    },
    {
      "cell_type": "code",
      "execution_count": null,
      "metadata": {
        "colab": {
          "background_save": true
        },
        "id": "hg59QXU9Z0Xs"
      },
      "outputs": [],
      "source": [
        "# Creamos un lista de listas\n",
        "generos_lista = df_steam_games['genres'].tolist()\n",
        "\n",
        "\n",
        "generos = []\n",
        "for lista in generos_lista:\n",
        "    lista = eval(lista)\n",
        "    for gen in lista:\n",
        "        generos.append(gen)\n",
        "\n",
        "generos_unicos = list(set(generos))\n",
        "\n",
        "print(generos_unicos)"
      ]
    },
    {
      "cell_type": "code",
      "execution_count": null,
      "metadata": {
        "colab": {
          "background_save": true
        },
        "id": "X_zsH434asxE"
      },
      "outputs": [],
      "source": [
        "# Esta línea crea una lista vacía llamada playtimes para almacenar el tiempo de juego total de cada género.\n",
        "playtimes = []\n",
        "# Esta línea crea un bucle for que itera sobre cada género único.\n",
        "for genero in generos_unicos:\n",
        "    df_steam_games_generos = df_steam_games[df_steam_games['genres']\n",
        "                                                    .apply(lambda generos: genero in generos)]\n",
        "    lista_items = df_steam_games_generos['id'].tolist()\n",
        "\n",
        "    df_user_items_final_items = df_user_items_final[df_user_items_final['item_id'].isin(lista_items)]\n",
        "    df_user_items_final_items\n",
        "\n",
        "    playtime = df_user_items_final_items['playtime_forever'].sum()\n",
        "\n",
        "    playtimes.append(playtime)"
      ]
    },
    {
      "cell_type": "code",
      "execution_count": null,
      "metadata": {
        "colab": {
          "background_save": true
        },
        "id": "DYW8QbOTbUAp"
      },
      "outputs": [],
      "source": [
        "# Se diccionario que contiene los géneros y el tiempo de juego total de cada género para el usuario actual.\n",
        "dicc_gnre = {'genero': generos_unicos, 'Time': playtimes}"
      ]
    },
    {
      "cell_type": "code",
      "execution_count": null,
      "metadata": {
        "colab": {
          "background_save": true
        },
        "id": "Nv9XaGXuc7K7"
      },
      "outputs": [],
      "source": [
        "# Creamos un dataframe y ordenamos de forma ascendente para ver los juegos más jugados.\n",
        "df_generos_times = pd.DataFrame(dicc_gnre)\n",
        "\n",
        "df_generos_times = df_generos_times.sort_values('Time', ascending=False)\n",
        "\n",
        "df_generos_times = df_generos_times.reset_index(drop=True)"
      ]
    },
    {
      "cell_type": "code",
      "execution_count": null,
      "metadata": {
        "colab": {
          "background_save": true
        },
        "id": "4aaIJ2ZfdhYW"
      },
      "outputs": [],
      "source": [
        "# Veamos la info\n",
        "df_generos_times.head(5)"
      ]
    },
    {
      "cell_type": "code",
      "execution_count": null,
      "metadata": {
        "colab": {
          "background_save": true
        },
        "id": "4gyZzD-1ee8Z"
      },
      "outputs": [],
      "source": [
        "# Esta línea agrega 1 al índice de cada fila del DataFrame df_generos_times.\n",
        "df_generos_times.index = df_generos_times.index + 1\n",
        "\n",
        "# Esta línea reinicia los índices del DataFrame df_generos_times usando el valor 0 como índice inicial\n",
        "df_generos_times.reset_index(0, inplace=True)\n",
        "\n",
        "df_generos_times.rename(columns={'index': 'Rank'}, inplace=True)\n",
        "df_generos_times.to_csv('rankgenres.csv', index=False)"
      ]
    },
    {
      "cell_type": "code",
      "execution_count": null,
      "metadata": {
        "colab": {
          "background_save": true
        },
        "id": "4os3-Y10f1o0"
      },
      "outputs": [],
      "source": [
        "def genre(genero):\n",
        "    try:\n",
        "        df = pd.read_csv('rankgenres.csv')\n",
        "        rank = df[df['genero'] == genero]['Rank'].values[0]\n",
        "    except:\n",
        "        rank = 'Genero no existe'\n",
        "    return rank\n"
      ]
    },
    {
      "cell_type": "code",
      "execution_count": null,
      "metadata": {
        "colab": {
          "background_save": true
        },
        "id": "gCCQKrFOf8Ox"
      },
      "outputs": [],
      "source": [
        "genero = 'Action'\n",
        "rank = genre(genero)\n",
        "print(rank)"
      ]
    },
    {
      "cell_type": "markdown",
      "metadata": {
        "id": "AyVsVxOJgK__"
      },
      "source": [
        "***4° FUNCIÓN: DEF USER_FORGENRE***"
      ]
    },
    {
      "cell_type": "code",
      "execution_count": null,
      "metadata": {
        "colab": {
          "background_save": true
        },
        "id": "cv0_d83ygUhG"
      },
      "outputs": [],
      "source": [
        "# Top 5 de usuarios con más horas de juego en el género dado, con su URL (del user) y user_id.\n",
        "def user_for_genre(genero):\n",
        "  \"\"\"\n",
        "  Devuelve una lista de los 5 usuarios principales para el género especificado.\n",
        "\n",
        "  Args:\n",
        "    genero: El género.\n",
        "\n",
        "  Returns:\n",
        "    Una lista de los 5 usuarios principales para el género especificado.\n",
        "  \"\"\"\n",
        "\n",
        "  # Obtiene los juegos del género especificado.\n",
        "  df_steam_games_generos = df_steam_games[df_steam_games['genres'].apply(lambda generos: genero in generos)]\n",
        "  juegos = df_steam_games_generos['id'].values\n",
        "\n",
        "  # Obtiene los usuarios que han jugado los juegos del género especificado.\n",
        "  df_user_items_final_genres = df_user_items_final[df_user_items_final['item_id'].isin(juegos)]\n",
        "\n",
        "  # Agrupa los usuarios por ID y suma su tiempo de juego total para cada juego.\n",
        "  df_top_users = df_user_items_final_genres[['user_id', 'user_url', 'playtime_forever']].groupby(['user_id', 'user_url']).sum('playtime_forever')\n",
        "\n",
        "  # Obtiene los 5 usuarios principales ordenados por tiempo de juego total.\n",
        "  df_top_users = df_top_users.sort_values('playtime_forever', ascending=False).head(5)\n",
        "\n",
        "  # Convierte el DataFrame a una lista de diccionarios.\n",
        "  respuesta = df_top_users.to_dict(orient='records')\n",
        "\n",
        "  return respuesta\n"
      ]
    },
    {
      "cell_type": "code",
      "execution_count": null,
      "metadata": {
        "colab": {
          "background_save": true
        },
        "id": "40UKrT0xgwbm"
      },
      "outputs": [],
      "source": [
        "user_for_genre('Action')"
      ]
    },
    {
      "cell_type": "markdown",
      "metadata": {
        "id": "qJYgr_SDitc3"
      },
      "source": [
        "***5° FUNCIÓN: DEF_DEVELOPER***"
      ]
    },
    {
      "cell_type": "code",
      "execution_count": null,
      "metadata": {
        "colab": {
          "background_save": true
        },
        "id": "14NTZo6Si0Ka"
      },
      "outputs": [],
      "source": [
        "# Solicitado: cantidad` de items y `porcentaje` de contenido Free por año según empresa desarrolladora. Ej de salida.\n",
        "\n",
        "# Supongamos que tienes un DataFrame llamado df con las columnas 'developer', 'price2', y 'año'\n",
        "\n",
        "# Filtraremos los juegos con precio igual a 0.0 y agrupar por 'developer' y 'año'\n",
        "free_games = df_steam_games[df_steam_games['price2'] == 0.0].groupby(['developer', 'Año']).size().reset_index(name='total gratis')\n",
        "\n",
        "# Agrupamos todos los juegos por 'developer' y 'año' y contar el total\n",
        "\n",
        "todos_los_juegos = df_steam_games.groupby(['developer', 'Año']).size().reset_index(name='total')\n",
        "\n",
        "## merge ##\n",
        "# Combinamos ambos DataFrames en uno solo\n",
        "developer_año = pd.merge(todos_los_juegos, free_games, on=['developer', 'Año'], how='left').fillna(0)\n",
        "developer_año.head(10)"
      ]
    },
    {
      "cell_type": "code",
      "execution_count": null,
      "metadata": {
        "colab": {
          "background_save": true
        },
        "id": "AgwpJnIoj88g"
      },
      "outputs": [],
      "source": [
        "# Definimos una función para ver el contenido gratis:\n",
        "def free_cont(fila):\n",
        "    if(fila['total gratis']==0.0):\n",
        "        return 0.0\n",
        "    else:\n",
        "        return round((fila['total gratis']/fila['total'])*100,2)"
      ]
    },
    {
      "cell_type": "code",
      "execution_count": null,
      "metadata": {
        "colab": {
          "background_save": true
        },
        "id": "o60juHJLkLGN"
      },
      "outputs": [],
      "source": [
        "developer_año['Contenido Free'] = developer_año.apply(free_cont, axis=1)"
      ]
    },
    {
      "cell_type": "code",
      "execution_count": null,
      "metadata": {
        "colab": {
          "background_save": true
        },
        "id": "asp91piEkRfA"
      },
      "outputs": [],
      "source": [
        "# Imprimimos para saber el resultado:\n",
        "developer_año.head(10)"
      ]
    },
    {
      "cell_type": "code",
      "execution_count": null,
      "metadata": {
        "colab": {
          "background_save": true
        },
        "id": "W6QXe3NckRQK"
      },
      "outputs": [],
      "source": [
        "# Convierto archivo a csv\n",
        "developer_año.to_csv('developerByAño.csv', index=False)"
      ]
    },
    {
      "cell_type": "code",
      "execution_count": null,
      "metadata": {
        "colab": {
          "background_save": true
        },
        "id": "5ysisDo-lC4a"
      },
      "outputs": [],
      "source": [
        "# La función developer() devuelve un diccionario con la información del desarrollador especificado, o el mensaje No hay developer con ese nombre si el desarrollador no existe.\n",
        "def developer(developer):\n",
        "    df_developer = pd.read_csv('developerByAño.csv')\n",
        "    df_developer = df_developer[df_developer['developer']==developer]\n",
        "\n",
        "    if(len(df_developer)==0):\n",
        "        respuesta = 'No hay developer con ese nombre'\n",
        "    else:\n",
        "        respuesta = df_developer.to_dict(orient='records')\n",
        "    return respuesta"
      ]
    },
    {
      "cell_type": "code",
      "execution_count": null,
      "metadata": {
        "colab": {
          "background_save": true
        },
        "id": "w5FS5jhhlKE8"
      },
      "outputs": [],
      "source": [
        "developer('+7 Software')"
      ]
    },
    {
      "cell_type": "markdown",
      "metadata": {
        "id": "dUt6_nh7ZaSc"
      },
      "source": [
        "**ENTORNO VIRTUAL**"
      ]
    }
  ],
  "metadata": {
    "colab": {
      "provenance": []
    },
    "kernelspec": {
      "display_name": "Python 3",
      "name": "python3"
    },
    "language_info": {
      "name": "python"
    }
  },
  "nbformat": 4,
  "nbformat_minor": 0
}